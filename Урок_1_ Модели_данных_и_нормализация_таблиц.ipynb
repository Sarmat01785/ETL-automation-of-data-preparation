{
 "cells": [
  {
   "cell_type": "markdown",
   "metadata": {},
   "source": [
    "# ETL: автоматизация подготовки данных семинары\n",
    "\n",
    "## Урок 1. Модели данных и нормализация таблиц. Схема «звезда»\n",
    "\n",
    "### Задача:\n",
    "\n",
    " - Определите в какой нормальной форме данная таблица, приведите её ко 2 и 3 нормальным формам последовательно.\n",
    "\n",
    "| EmployeeID | Name     | JobCode | Job           | Citycode | Homecity |\n",
    "|--------------|----------|----------|----------------|-----------|----------|\n",
    "| E001         | Alice    | J01      | Chef           | 26        | Moscow   |\n",
    "| E001         | Alice    | J02      | Waiter         | 26        | Moscow   |\n",
    "| E002         | Bob      | J02      | Waiter         | 56        | Perm     |\n",
    "| E002         | Bob      | J03      | Bartender      | 56        | Perm     |\n",
    "| E003         | Alice    | J01      | Chef           | 56        | Perm     |"
   ]
  },
  {
   "cell_type": "code",
   "execution_count": 1,
   "metadata": {},
   "outputs": [],
   "source": [
    "import init_spark_env"
   ]
  },
  {
   "cell_type": "code",
   "execution_count": 2,
   "metadata": {},
   "outputs": [],
   "source": [
    "from pyspark.sql import SparkSession"
   ]
  },
  {
   "cell_type": "code",
   "execution_count": 3,
   "metadata": {},
   "outputs": [
    {
     "name": "stderr",
     "output_type": "stream",
     "text": [
      "Setting default log level to \"WARN\".\n",
      "To adjust logging level use sc.setLogLevel(newLevel). For SparkR, use setLogLevel(newLevel).\n",
      "24/09/30 15:39:36 WARN NativeCodeLoader: Unable to load native-hadoop library for your platform... using builtin-java classes where applicable\n"
     ]
    }
   ],
   "source": [
    "spark = SparkSession.builder.master(\"local[*]\").appName(\"My Spark Application\").getOrCreate()"
   ]
  },
  {
   "cell_type": "code",
   "execution_count": 4,
   "metadata": {},
   "outputs": [
    {
     "data": {
      "text/html": [
       "\n",
       "            <div>\n",
       "                <p><b>SparkSession - in-memory</b></p>\n",
       "                \n",
       "        <div>\n",
       "            <p><b>SparkContext</b></p>\n",
       "\n",
       "            <p><a href=\"http://Quantum:4040\">Spark UI</a></p>\n",
       "\n",
       "            <dl>\n",
       "              <dt>Version</dt>\n",
       "                <dd><code>v3.5.2</code></dd>\n",
       "              <dt>Master</dt>\n",
       "                <dd><code>local[*]</code></dd>\n",
       "              <dt>AppName</dt>\n",
       "                <dd><code>My Spark Application</code></dd>\n",
       "            </dl>\n",
       "        </div>\n",
       "        \n",
       "            </div>\n",
       "        "
      ],
      "text/plain": [
       "<pyspark.sql.session.SparkSession at 0x7f7f345a3ce0>"
      ]
     },
     "execution_count": 4,
     "metadata": {},
     "output_type": "execute_result"
    }
   ],
   "source": [
    "spark"
   ]
  },
  {
   "cell_type": "code",
   "execution_count": 5,
   "metadata": {},
   "outputs": [],
   "source": [
    "from pyspark.sql import DataFrame\n",
    "from pyspark.sql.functions import col"
   ]
  },
  {
   "cell_type": "code",
   "execution_count": 6,
   "metadata": {},
   "outputs": [],
   "source": [
    "# DataFrame с исходными данными\n",
    "data = [\n",
    "    (\"E001\", \"Alice\", \"J01\", \"Chef\", \"26\", \"Moscow\"),\n",
    "    (\"E001\", \"Alice\", \"J02\", \"Waiter\", \"26\", \"Moscow\"),\n",
    "    (\"E002\", \"Bob\", \"J02\", \"Waiter\", \"56\", \"Perm\"),\n",
    "    (\"E002\", \"Bob\", \"J03\", \"Bartender\", \"56\", \"Perm\"),\n",
    "    (\"E003\", \"Alice\", \"J01\", \"Chef\", \"56\", \"Perm\")\n",
    "]\n",
    "\n",
    "columns = [\"EmployeeID\", \"Name\", \"JobCode\", \"Job\", \"Citycode\", \"Homecity\"]\n",
    "df = spark.createDataFrame(data, schema=columns)"
   ]
  },
  {
   "cell_type": "code",
   "execution_count": 12,
   "metadata": {},
   "outputs": [],
   "source": [
    "# Разделяем на таблицы Employees и Jobs\n",
    "employees_df = df.select(\"EmployeeID\", \"Name\", \"Citycode\", \"Homecity\").distinct()\n",
    "jobs_df = df.select(\"EmployeeID\", \"JobCode\", \"Job\").distinct()"
   ]
  },
  {
   "cell_type": "code",
   "execution_count": 13,
   "metadata": {},
   "outputs": [],
   "source": [
    "# Переименуем колонки для соответствия нормализованной схеме\n",
    "employees_df = employees_df.withColumnRenamed(\"Citycode\", \"HomeCityCode\")"
   ]
  },
  {
   "cell_type": "code",
   "execution_count": 18,
   "metadata": {},
   "outputs": [],
   "source": [
    "# Перейдем ко второй нормальной форме, для этого нужно создать отдельную таблицу для городов\n",
    "# Таблица Cities:\n",
    "# - Citycode\n",
    "# - City\n",
    "cities_df = df.select(\"Citycode\", \"Homecity\").distinct().withColumnRenamed(\"Homecity\", \"City\")\n",
    "\n",
    "# Теперь есть три таблицы в 2НФ: Employees, Jobs и Cities\n",
    "# Для 3НФ нужно убедиться, что все поля зависят только от первичного ключа\n",
    "# В таблицах уже соблюдена 3НФ, так как все не ключевые поля зависят только от первичного ключа"
   ]
  },
  {
   "cell_type": "code",
   "execution_count": 19,
   "metadata": {},
   "outputs": [
    {
     "name": "stderr",
     "output_type": "stream",
     "text": [
      "                                                                                \r"
     ]
    },
    {
     "name": "stdout",
     "output_type": "stream",
     "text": [
      "+----------+-----+------------+--------+\n",
      "|EmployeeID| Name|HomeCityCode|Homecity|\n",
      "+----------+-----+------------+--------+\n",
      "|      E001|Alice|          26|  Moscow|\n",
      "|      E002|  Bob|          56|    Perm|\n",
      "|      E003|Alice|          56|    Perm|\n",
      "+----------+-----+------------+--------+\n",
      "\n",
      "+----------+-------+---------+\n",
      "|EmployeeID|JobCode|      Job|\n",
      "+----------+-------+---------+\n",
      "|      E001|    J01|     Chef|\n",
      "|      E001|    J02|   Waiter|\n",
      "|      E002|    J02|   Waiter|\n",
      "|      E002|    J03|Bartender|\n",
      "|      E003|    J01|     Chef|\n",
      "+----------+-------+---------+\n",
      "\n",
      "+--------+------+\n",
      "|Citycode|  City|\n",
      "+--------+------+\n",
      "|      26|Moscow|\n",
      "|      56|  Perm|\n",
      "+--------+------+\n",
      "\n"
     ]
    }
   ],
   "source": [
    "# Вывод результата\n",
    "employees_df.show()\n",
    "jobs_df.show()\n",
    "cities_df.show()"
   ]
  },
  {
   "cell_type": "code",
   "execution_count": 20,
   "metadata": {},
   "outputs": [],
   "source": [
    "spark.stop()"
   ]
  }
 ],
 "metadata": {
  "kernelspec": {
   "display_name": "Python 3 (ipykernel)",
   "language": "python",
   "name": "python3"
  },
  "language_info": {
   "codemirror_mode": {
    "name": "ipython",
    "version": 3
   },
   "file_extension": ".py",
   "mimetype": "text/x-python",
   "name": "python",
   "nbconvert_exporter": "python",
   "pygments_lexer": "ipython3",
   "version": "3.12.2"
  }
 },
 "nbformat": 4,
 "nbformat_minor": 2
}
