{
 "cells": [
  {
   "cell_type": "markdown",
   "metadata": {},
   "source": [
    "# ETL: автоматизация подготовки данных семинары\n",
    "\n",
    "## Урок 5. Обзор возможностей Airflow, установка и настройка\n",
    "\n",
    "1. Скачайте файл my_first_dag.py, поместите его в папку airflow/dags. Перезапустите airflow и запустите этот dag.\n",
    "\n",
    "2. Посмотрите логи вывода.\n",
    "\n",
    "3. Измените этот dag так, чтобы он выводил в консоль текст «Привет + ваше имя». Посмотрите в логах, что dag выводит то, что вы хотите.\n",
    "\n",
    "4. Скачайте файл my_second_dag.py поместите его в папку airflow/dags.\n",
    "\n",
    "5. Объясните, что происходит в рамках этого процесса."
   ]
  },
  {
   "cell_type": "markdown",
   "metadata": {},
   "source": [
    "### Задача 1 \n",
    "\n",
    "Скачайте файл my_first_dag.py, поместите его в папку airflow/dags. Перезапустите airflow и запустите этот dag."
   ]
  },
  {
   "cell_type": "markdown",
   "metadata": {},
   "source": [
    "![Это мой первый DAG](my_first_dag.png)"
   ]
  },
  {
   "cell_type": "markdown",
   "metadata": {},
   "source": [
    "### Задача 2\n",
    "\n",
    "Посмотрите логи вывода."
   ]
  },
  {
   "cell_type": "markdown",
   "metadata": {},
   "source": [
    "![Логи вывода](Log.png)"
   ]
  },
  {
   "cell_type": "markdown",
   "metadata": {},
   "source": [
    "![Details](Details.png)"
   ]
  },
  {
   "cell_type": "markdown",
   "metadata": {},
   "source": [
    "### Задача 3\n",
    "\n",
    "Измените этот `dag` так, чтобы он выводил в консоль текст «Привет + ваше имя». Посмотрите в логах, что dag выводит то, что вы хотите."
   ]
  },
  {
   "cell_type": "code",
   "execution_count": null,
   "metadata": {},
   "outputs": [],
   "source": [
    "# Было\n",
    "# from datetime import datetime\n",
    "# from airflow import DAG\n",
    "# from airflow.operators.dummy_operator import DummyOperator\n",
    "# from airflow.operators.python_operator import PythonOperator\n",
    "\n",
    "# def print_hello():\n",
    "#     return 'Hello world from first Airflow DAG!'\n",
    "\n",
    "# dag = DAG('my_first_dag', description='Hello World DAG',\n",
    "#           schedule_interval='0 12 * * *',\n",
    "#           start_date=datetime(2017, 3, 20), catchup=False)\n",
    "\n",
    "# hello_operator = PythonOperator(task_id='hello_task', python_callable=print_hello, dag=dag)\n",
    "\n",
    "# hello_operator\n",
    "\n",
    "\n",
    "\n",
    "# Стало\n",
    "from datetime import datetime\n",
    "from airflow import DAG\n",
    "from airflow.operators.empty import EmptyOperator\n",
    "from airflow.operators.python import PythonOperator\n",
    "\n",
    "\n",
    "def say_hello(name):\n",
    "    return f\"Привет, {name}!\"\n",
    "\n",
    "\n",
    "dag = DAG(\n",
    "    \"my_first_dag\",\n",
    "    description=\"Hello World DAG\",\n",
    "    schedule=\"@daily\",\n",
    "    start_date=datetime(2017, 3, 20),\n",
    "    catchup=False,\n",
    ")\n",
    "\n",
    "hello_operator = PythonOperator(\n",
    "    task_id=\"hello_task\",\n",
    "    python_callable=say_hello,\n",
    "    op_kwargs={\"name\": \"Шариков\"},\n",
    "    dag=dag,\n",
    ")\n",
    "\n",
    "hello_operator\n"
   ]
  },
  {
   "cell_type": "markdown",
   "metadata": {},
   "source": [
    "### Задача 4\n",
    "\n",
    "Скачайте файл my_second_dag.py поместите его в папку airflow/dags."
   ]
  },
  {
   "cell_type": "markdown",
   "metadata": {},
   "source": [
    "![my_second_dag](my_second_dag.png)"
   ]
  },
  {
   "cell_type": "markdown",
   "metadata": {},
   "source": [
    "### Задача 5\n",
    "\n",
    "Объясните, что происходит в рамках этого процесса."
   ]
  },
  {
   "cell_type": "code",
   "execution_count": null,
   "metadata": {},
   "outputs": [],
   "source": [
    "# Импорт библиотек\n",
    "from airflow import DAG\n",
    "from airflow.operators.python import PythonOperator, BranchPythonOperator\n",
    "from airflow.operators.bash import BashOperator\n",
    "from datetime import datetime\n",
    "from random import randint\n",
    "\n",
    "# Определение функций\n",
    "# Эта функция используется для определения наилучшей модели среди трех обученных моделей \n",
    "# ('A', 'B' и 'C'). Она извлекает значения точности каждой модели через XCom (Cross-Communication) \n",
    "# и сравнивает их между собой. Если максимальная точность превышает порог 8, \n",
    "# возвращается строка \"accurate\"; иначе – \"inaccurate\".\n",
    "def _choosing_best_model(ti):\n",
    "    accuracies = ti.xcom_pull(task_ids=[\n",
    "    'training_model_A',\n",
    "    'training_model_B',\n",
    "    'training_model_C'\n",
    "    ])\n",
    "    if max(accuracies) > 8:\n",
    "        return 'accurate'\n",
    "    return 'inaccurate'\n",
    "\n",
    "\n",
    "# Это простая функция, которая имитирует процесс обучения модели. \n",
    "# В реальности она должна была бы тренировать модель и возвращать значение точности. \n",
    "# Здесь просто генерируется случайное число от 1 до 10, чтобы симулировать результат обучения.\n",
    "def _training_model(model):\n",
    "    return randint(1, 10)\n",
    "# Создание DAG\n",
    "# Создается новый DAG под названием \"my_second_dag\". Этот рабочий процесс будет запускаться \n",
    "# ежедневно начиная с 1 января 2021 года. Параметр catchup=False означает, \n",
    "# что при первом запуске будут выполнены только задачи текущего дня, без выполнения пропущенных задач \n",
    "# за предыдущие дни.\n",
    "with DAG(\"my_second_dag\", start_date=datetime(2021, 1 ,1), schedule_interval='@daily', catchup=False) as dag:\n",
    "    # Задания\n",
    "    # Обучение моделей\n",
    "    # Создаются три задания типа PythonOperator, каждое из которых вызывает функцию _training_model \n",
    "    # для одной из моделей ('A', 'B' и 'C').\n",
    "    training_model_tasks = [\n",
    "        PythonOperator(\n",
    "        task_id=f\"training_model_{model_id}\",\n",
    "        python_callable=_training_model,\n",
    "        op_kwargs={\"model\": model_id}\n",
    "        ) for model_id in ['A', 'B', 'C']\n",
    "    ]\n",
    "    # Выбор лучшей модели\n",
    "    # Задание типа BranchPythonOperator выполняет функцию _choosing_best_model, \n",
    "    # которая определяет, какая из моделей является наиболее точной.\n",
    "    choosing_best_model = BranchPythonOperator(\n",
    "        task_id=\"choosing_best_model\",\n",
    "        python_callable=_choosing_best_model\n",
    "        )\n",
    "    # Логирование результатов\n",
    "    # Два задания типа BashOperator логируют результаты. Одно задание выводит сообщение \"accurate\", \n",
    "    # другое – \"inaccurate\", в зависимости от того, какой путь был выбран в задании choosing_best_model.\n",
    "    accurate = BashOperator(\n",
    "        task_id=\"accurate\",\n",
    "        bash_command=\"echo 'accurate'\"\n",
    "        )\n",
    "    inaccurate = BashOperator(\n",
    "        task_id=\"inaccurate\",\n",
    "        bash_command=\" echo 'inaccurate'\"\n",
    "        )\n",
    "    \n",
    "# Поток заданий\n",
    "training_model_tasks >> choosing_best_model >> [accurate, inaccurate]"
   ]
  }
 ],
 "metadata": {
  "kernelspec": {
   "display_name": ".venv",
   "language": "python",
   "name": "python3"
  },
  "language_info": {
   "name": "python",
   "version": "3.12.2"
  }
 },
 "nbformat": 4,
 "nbformat_minor": 2
}
