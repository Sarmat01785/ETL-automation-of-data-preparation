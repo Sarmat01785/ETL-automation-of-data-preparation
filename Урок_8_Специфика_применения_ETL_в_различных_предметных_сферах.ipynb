{
 "cells": [
  {
   "cell_type": "markdown",
   "metadata": {},
   "source": [
    "# ETL: автоматизация подготовки данных семинары\n",
    "\n",
    "## Урок 8. Специфика применения ETL в различных предметных сферах\n",
    "\n",
    "1. Скачайте файлы booking.csv, client.csv и hotel.csv\n",
    "\n",
    "2. Создайте новый dag\n",
    "\n",
    "3. Создайте три оператора для получения данных и загрузите файлы. Передайте датафреймы в оператор трансформации\n",
    "\n",
    "4. Создайте оператор который будет трансформировать данные:\n",
    "\n",
    "- Объедините все таблицы в одну\n",
    "\n",
    "- Приведите даты к одному виду\n",
    "\n",
    "- Удалите невалидные колонки\n",
    "\n",
    "- Приведите все валюты к одной\n",
    "\n",
    "5. Сохраните в pandas DataFrame\n",
    "\n",
    "6. Запустите dag."
   ]
  },
  {
   "cell_type": "code",
   "execution_count": 77,
   "metadata": {},
   "outputs": [],
   "source": [
    "import pandas as pd"
   ]
  },
  {
   "cell_type": "code",
   "execution_count": 78,
   "metadata": {},
   "outputs": [],
   "source": [
    "# Указываем пути к файлам\n",
    "file_path_booking = '/home/executor/Загрузки/booking.csv'\n",
    "file_path_client = '/home/executor/Загрузки/client.csv'\n",
    "file_path_hotel = '/home/executor/Загрузки/hotel.csv'"
   ]
  },
  {
   "cell_type": "code",
   "execution_count": 79,
   "metadata": {},
   "outputs": [],
   "source": [
    "# Загружаем файлы в DataFrame\n",
    "booking_df = pd.read_csv(file_path_booking)\n",
    "client_df = pd.read_csv(file_path_client)\n",
    "hotel_df = pd.read_csv(file_path_hotel)"
   ]
  },
  {
   "cell_type": "code",
   "execution_count": 80,
   "metadata": {},
   "outputs": [
    {
     "name": "stdout",
     "output_type": "stream",
     "text": [
      "Содержимое DataFrame первые 5 строк для предварительного просмотра файла booking.csv:\n"
     ]
    },
    {
     "data": {
      "text/html": [
       "<div>\n",
       "<style scoped>\n",
       "    .dataframe tbody tr th:only-of-type {\n",
       "        vertical-align: middle;\n",
       "    }\n",
       "\n",
       "    .dataframe tbody tr th {\n",
       "        vertical-align: top;\n",
       "    }\n",
       "\n",
       "    .dataframe thead th {\n",
       "        text-align: right;\n",
       "    }\n",
       "</style>\n",
       "<table border=\"1\" class=\"dataframe\">\n",
       "  <thead>\n",
       "    <tr style=\"text-align: right;\">\n",
       "      <th></th>\n",
       "      <th>client_id</th>\n",
       "      <th>booking_date</th>\n",
       "      <th>room_type</th>\n",
       "      <th>hotel_id</th>\n",
       "      <th>booking_cost</th>\n",
       "      <th>currency</th>\n",
       "    </tr>\n",
       "  </thead>\n",
       "  <tbody>\n",
       "    <tr>\n",
       "      <th>0</th>\n",
       "      <td>4</td>\n",
       "      <td>2016/11/02</td>\n",
       "      <td>first_class_2_bed</td>\n",
       "      <td>6</td>\n",
       "      <td>3140.0</td>\n",
       "      <td>GBP</td>\n",
       "    </tr>\n",
       "    <tr>\n",
       "      <th>1</th>\n",
       "      <td>2</td>\n",
       "      <td>2017-07-13</td>\n",
       "      <td>balcony_2_bed</td>\n",
       "      <td>2</td>\n",
       "      <td>2325.0</td>\n",
       "      <td>EUR</td>\n",
       "    </tr>\n",
       "    <tr>\n",
       "      <th>2</th>\n",
       "      <td>3</td>\n",
       "      <td>2017-10-17</td>\n",
       "      <td>standard_3_bed</td>\n",
       "      <td>6</td>\n",
       "      <td>2475.0</td>\n",
       "      <td>EUR</td>\n",
       "    </tr>\n",
       "    <tr>\n",
       "      <th>3</th>\n",
       "      <td>3</td>\n",
       "      <td>2018-01-16</td>\n",
       "      <td>standard_1_bed</td>\n",
       "      <td>4</td>\n",
       "      <td>NaN</td>\n",
       "      <td>NaN</td>\n",
       "    </tr>\n",
       "    <tr>\n",
       "      <th>4</th>\n",
       "      <td>1</td>\n",
       "      <td>2018/03/20</td>\n",
       "      <td>balcony_2_bed</td>\n",
       "      <td>1</td>\n",
       "      <td>2740.0</td>\n",
       "      <td>GBP</td>\n",
       "    </tr>\n",
       "  </tbody>\n",
       "</table>\n",
       "</div>"
      ],
      "text/plain": [
       "   client_id booking_date          room_type  hotel_id  booking_cost currency\n",
       "0          4   2016/11/02  first_class_2_bed         6        3140.0      GBP\n",
       "1          2   2017-07-13      balcony_2_bed         2        2325.0      EUR\n",
       "2          3   2017-10-17     standard_3_bed         6        2475.0      EUR\n",
       "3          3   2018-01-16     standard_1_bed         4           NaN      NaN\n",
       "4          1   2018/03/20      balcony_2_bed         1        2740.0      GBP"
      ]
     },
     "execution_count": 80,
     "metadata": {},
     "output_type": "execute_result"
    }
   ],
   "source": [
    "# Просматриваем содержимое DataFrame\n",
    "print('Содержимое DataFrame первые 5 строк для предварительного просмотра файла booking.csv:')\n",
    "booking_df.head()"
   ]
  },
  {
   "cell_type": "code",
   "execution_count": 81,
   "metadata": {},
   "outputs": [
    {
     "name": "stdout",
     "output_type": "stream",
     "text": [
      "Размер набора данных в файле booking.csv: 14 строк и 6 столбцов.\n"
     ]
    }
   ],
   "source": [
    "rows, cols = booking_df.shape\n",
    "print(f\"Размер набора данных в файле booking.csv: {rows} строк и {cols} столбцов.\")"
   ]
  },
  {
   "cell_type": "code",
   "execution_count": 82,
   "metadata": {},
   "outputs": [
    {
     "name": "stdout",
     "output_type": "stream",
     "text": [
      "\n",
      "Основная информация о данных в файле booking.csv:\n",
      "<class 'pandas.core.frame.DataFrame'>\n",
      "RangeIndex: 14 entries, 0 to 13\n",
      "Data columns (total 6 columns):\n",
      " #   Column        Non-Null Count  Dtype  \n",
      "---  ------        --------------  -----  \n",
      " 0   client_id     14 non-null     int64  \n",
      " 1   booking_date  14 non-null     object \n",
      " 2   room_type     14 non-null     object \n",
      " 3   hotel_id      14 non-null     int64  \n",
      " 4   booking_cost  13 non-null     float64\n",
      " 5   currency      13 non-null     object \n",
      "dtypes: float64(1), int64(2), object(3)\n",
      "memory usage: 804.0+ bytes\n"
     ]
    }
   ],
   "source": [
    "# Просмотр основной информации о DataFrame\n",
    "print(\"\\nОсновная информация о данных в файле booking.csv:\")\n",
    "booking_df.info()"
   ]
  },
  {
   "cell_type": "code",
   "execution_count": 83,
   "metadata": {},
   "outputs": [
    {
     "name": "stdout",
     "output_type": "stream",
     "text": [
      "\n",
      "Пропущенные значения в наборе данных booking.csv:\n",
      " booking_cost    1\n",
      "currency        1\n",
      "dtype: int64\n"
     ]
    }
   ],
   "source": [
    "# Подсчет количества пропущенных значений в каждом столбце\n",
    "missing_values_booking = booking_df.isnull().sum()\n",
    "\n",
    "# Фильтрация и сортировка столбцов с пропущенными значениями\n",
    "missing_values_booking = missing_values_booking[missing_values_booking > 0].sort_values(ascending=False)\n",
    "\n",
    "# Вывод результата\n",
    "print(\"\\nПропущенные значения в наборе данных booking.csv:\\n\", missing_values_booking)"
   ]
  },
  {
   "cell_type": "code",
   "execution_count": 84,
   "metadata": {},
   "outputs": [
    {
     "name": "stdout",
     "output_type": "stream",
     "text": [
      "\n",
      "Количество дубликатов в наборе данных booking.csv: 0\n"
     ]
    }
   ],
   "source": [
    "# Проверка на наличие дубликатов\n",
    "duplicates_booking = booking_df.duplicated().sum()\n",
    "print(\"\\nКоличество дубликатов в наборе данных booking.csv:\", duplicates_booking)"
   ]
  },
  {
   "cell_type": "code",
   "execution_count": 85,
   "metadata": {},
   "outputs": [
    {
     "name": "stdout",
     "output_type": "stream",
     "text": [
      "Содержимое DataFrame первые 5 строк для предварительного просмотра файла client.csv:\n"
     ]
    },
    {
     "data": {
      "text/html": [
       "<div>\n",
       "<style scoped>\n",
       "    .dataframe tbody tr th:only-of-type {\n",
       "        vertical-align: middle;\n",
       "    }\n",
       "\n",
       "    .dataframe tbody tr th {\n",
       "        vertical-align: top;\n",
       "    }\n",
       "\n",
       "    .dataframe thead th {\n",
       "        text-align: right;\n",
       "    }\n",
       "</style>\n",
       "<table border=\"1\" class=\"dataframe\">\n",
       "  <thead>\n",
       "    <tr style=\"text-align: right;\">\n",
       "      <th></th>\n",
       "      <th>client_id</th>\n",
       "      <th>age</th>\n",
       "      <th>name</th>\n",
       "      <th>type</th>\n",
       "    </tr>\n",
       "  </thead>\n",
       "  <tbody>\n",
       "    <tr>\n",
       "      <th>0</th>\n",
       "      <td>1</td>\n",
       "      <td>NaN</td>\n",
       "      <td>Ann</td>\n",
       "      <td>standard</td>\n",
       "    </tr>\n",
       "    <tr>\n",
       "      <th>1</th>\n",
       "      <td>2</td>\n",
       "      <td>38.0</td>\n",
       "      <td>Ben</td>\n",
       "      <td>standard</td>\n",
       "    </tr>\n",
       "    <tr>\n",
       "      <th>2</th>\n",
       "      <td>3</td>\n",
       "      <td>30.0</td>\n",
       "      <td>Tom</td>\n",
       "      <td>standard</td>\n",
       "    </tr>\n",
       "    <tr>\n",
       "      <th>3</th>\n",
       "      <td>4</td>\n",
       "      <td>43.0</td>\n",
       "      <td>Bianca</td>\n",
       "      <td>VIP</td>\n",
       "    </tr>\n",
       "    <tr>\n",
       "      <th>4</th>\n",
       "      <td>5</td>\n",
       "      <td>49.0</td>\n",
       "      <td>Caroline</td>\n",
       "      <td>standard</td>\n",
       "    </tr>\n",
       "  </tbody>\n",
       "</table>\n",
       "</div>"
      ],
      "text/plain": [
       "   client_id   age      name      type\n",
       "0          1   NaN       Ann  standard\n",
       "1          2  38.0       Ben  standard\n",
       "2          3  30.0       Tom  standard\n",
       "3          4  43.0    Bianca       VIP\n",
       "4          5  49.0  Caroline  standard"
      ]
     },
     "execution_count": 85,
     "metadata": {},
     "output_type": "execute_result"
    }
   ],
   "source": [
    "# Просматриваем содержимое DataFrame\n",
    "print('Содержимое DataFrame первые 5 строк для предварительного просмотра файла client.csv:')\n",
    "client_df.head()"
   ]
  },
  {
   "cell_type": "code",
   "execution_count": 86,
   "metadata": {},
   "outputs": [
    {
     "name": "stdout",
     "output_type": "stream",
     "text": [
      "Размер набора данных в файле client.csv: 6 строк и 4 столбцов.\n"
     ]
    }
   ],
   "source": [
    "rows, cols = client_df.shape\n",
    "print(f\"Размер набора данных в файле client.csv: {rows} строк и {cols} столбцов.\")"
   ]
  },
  {
   "cell_type": "code",
   "execution_count": 87,
   "metadata": {},
   "outputs": [
    {
     "name": "stdout",
     "output_type": "stream",
     "text": [
      "\n",
      "Основная информация о данных в файле client.csv:\n",
      "<class 'pandas.core.frame.DataFrame'>\n",
      "RangeIndex: 6 entries, 0 to 5\n",
      "Data columns (total 4 columns):\n",
      " #   Column     Non-Null Count  Dtype  \n",
      "---  ------     --------------  -----  \n",
      " 0   client_id  6 non-null      int64  \n",
      " 1   age        5 non-null      float64\n",
      " 2   name       6 non-null      object \n",
      " 3   type       6 non-null      object \n",
      "dtypes: float64(1), int64(1), object(2)\n",
      "memory usage: 324.0+ bytes\n"
     ]
    }
   ],
   "source": [
    "# Просмотр основной информации о DataFrame\n",
    "print(\"\\nОсновная информация о данных в файле client.csv:\")\n",
    "client_df.info()"
   ]
  },
  {
   "cell_type": "code",
   "execution_count": 88,
   "metadata": {},
   "outputs": [
    {
     "name": "stdout",
     "output_type": "stream",
     "text": [
      "\n",
      "Пропущенные значения в наборе данных client.csv:\n",
      " age    1\n",
      "dtype: int64\n"
     ]
    }
   ],
   "source": [
    "# Подсчет количества пропущенных значений в каждом столбце\n",
    "missing_values_client = client_df.isnull().sum()\n",
    "\n",
    "# Фильтрация и сортировка столбцов с пропущенными значениями\n",
    "missing_values_client = missing_values_client[missing_values_client > 0].sort_values(ascending=False)\n",
    "\n",
    "# Вывод результата\n",
    "print(\"\\nПропущенные значения в наборе данных client.csv:\\n\", missing_values_client)"
   ]
  },
  {
   "cell_type": "code",
   "execution_count": 89,
   "metadata": {},
   "outputs": [
    {
     "name": "stdout",
     "output_type": "stream",
     "text": [
      "\n",
      "Количество дубликатов в наборе данных client.csv: 0\n"
     ]
    }
   ],
   "source": [
    "# Проверка на наличие дубликатов\n",
    "duplicates_client = client_df.duplicated().sum()\n",
    "print(\"\\nКоличество дубликатов в наборе данных client.csv:\", duplicates_client)"
   ]
  },
  {
   "cell_type": "code",
   "execution_count": 90,
   "metadata": {},
   "outputs": [
    {
     "name": "stdout",
     "output_type": "stream",
     "text": [
      "Содержимое DataFrame первые 5 строк для предварительного просмотра файла hotel.csv:\n"
     ]
    },
    {
     "data": {
      "text/html": [
       "<div>\n",
       "<style scoped>\n",
       "    .dataframe tbody tr th:only-of-type {\n",
       "        vertical-align: middle;\n",
       "    }\n",
       "\n",
       "    .dataframe tbody tr th {\n",
       "        vertical-align: top;\n",
       "    }\n",
       "\n",
       "    .dataframe thead th {\n",
       "        text-align: right;\n",
       "    }\n",
       "</style>\n",
       "<table border=\"1\" class=\"dataframe\">\n",
       "  <thead>\n",
       "    <tr style=\"text-align: right;\">\n",
       "      <th></th>\n",
       "      <th>hotel_id</th>\n",
       "      <th>name</th>\n",
       "      <th>address</th>\n",
       "    </tr>\n",
       "  </thead>\n",
       "  <tbody>\n",
       "    <tr>\n",
       "      <th>0</th>\n",
       "      <td>1</td>\n",
       "      <td>Astro Resort</td>\n",
       "      <td>address1</td>\n",
       "    </tr>\n",
       "    <tr>\n",
       "      <th>1</th>\n",
       "      <td>2</td>\n",
       "      <td>Dream Connect</td>\n",
       "      <td>address2</td>\n",
       "    </tr>\n",
       "    <tr>\n",
       "      <th>2</th>\n",
       "      <td>3</td>\n",
       "      <td>Green Acres</td>\n",
       "      <td>address3</td>\n",
       "    </tr>\n",
       "    <tr>\n",
       "      <th>3</th>\n",
       "      <td>4</td>\n",
       "      <td>Millennium Times Square</td>\n",
       "      <td>address5</td>\n",
       "    </tr>\n",
       "    <tr>\n",
       "      <th>4</th>\n",
       "      <td>5</td>\n",
       "      <td>The Clift Royal</td>\n",
       "      <td>address5</td>\n",
       "    </tr>\n",
       "  </tbody>\n",
       "</table>\n",
       "</div>"
      ],
      "text/plain": [
       "   hotel_id                     name   address\n",
       "0         1             Astro Resort  address1\n",
       "1         2            Dream Connect  address2\n",
       "2         3              Green Acres  address3\n",
       "3         4  Millennium Times Square  address5\n",
       "4         5          The Clift Royal  address5"
      ]
     },
     "execution_count": 90,
     "metadata": {},
     "output_type": "execute_result"
    }
   ],
   "source": [
    "# Просматриваем содержимое DataFrame\n",
    "print('Содержимое DataFrame первые 5 строк для предварительного просмотра файла hotel.csv:')\n",
    "hotel_df.head()"
   ]
  },
  {
   "cell_type": "code",
   "execution_count": 91,
   "metadata": {},
   "outputs": [
    {
     "name": "stdout",
     "output_type": "stream",
     "text": [
      "Размер набора данных в файле hotel.csv: 6 строк и 3 столбцов.\n"
     ]
    }
   ],
   "source": [
    "rows, cols = hotel_df.shape\n",
    "print(f\"Размер набора данных в файле hotel.csv: {rows} строк и {cols} столбцов.\")"
   ]
  },
  {
   "cell_type": "code",
   "execution_count": 92,
   "metadata": {},
   "outputs": [
    {
     "name": "stdout",
     "output_type": "stream",
     "text": [
      "\n",
      "Основная информация о данных в файле hotel.csv:\n",
      "<class 'pandas.core.frame.DataFrame'>\n",
      "RangeIndex: 6 entries, 0 to 5\n",
      "Data columns (total 3 columns):\n",
      " #   Column    Non-Null Count  Dtype \n",
      "---  ------    --------------  ----- \n",
      " 0   hotel_id  6 non-null      int64 \n",
      " 1   name      6 non-null      object\n",
      " 2   address   6 non-null      object\n",
      "dtypes: int64(1), object(2)\n",
      "memory usage: 276.0+ bytes\n"
     ]
    }
   ],
   "source": [
    "# Просмотр основной информации о DataFrame\n",
    "print(\"\\nОсновная информация о данных в файле hotel.csv:\")\n",
    "hotel_df.info()"
   ]
  },
  {
   "cell_type": "code",
   "execution_count": 93,
   "metadata": {},
   "outputs": [
    {
     "name": "stdout",
     "output_type": "stream",
     "text": [
      "\n",
      "Пропущенные значения в наборе данных hotel.csv:\n",
      " Series([], dtype: int64)\n"
     ]
    }
   ],
   "source": [
    "# Подсчет количества пропущенных значений в каждом столбце\n",
    "missing_values_hotel = hotel_df.isnull().sum()\n",
    "\n",
    "# Фильтрация и сортировка столбцов с пропущенными значениями\n",
    "missing_values_hotel = missing_values_hotel[missing_values_hotel > 0].sort_values(ascending=False)\n",
    "\n",
    "# Вывод результата\n",
    "print(\"\\nПропущенные значения в наборе данных hotel.csv:\\n\", missing_values_hotel)"
   ]
  },
  {
   "cell_type": "code",
   "execution_count": 94,
   "metadata": {},
   "outputs": [
    {
     "name": "stdout",
     "output_type": "stream",
     "text": [
      "\n",
      "Количество дубликатов в наборе данных hotel.csv: 0\n"
     ]
    }
   ],
   "source": [
    "# Проверка на наличие дубликатов\n",
    "duplicates_hotel = hotel_df.duplicated().sum()\n",
    "print(\"\\nКоличество дубликатов в наборе данных hotel.csv:\", duplicates_hotel)"
   ]
  },
  {
   "cell_type": "code",
   "execution_count": null,
   "metadata": {},
   "outputs": [],
   "source": [
    "# Код в файле etl_dag.py\n",
    "from datetime import datetime, timedelta\n",
    "from airflow import DAG\n",
    "from airflow.operators.python_operator import PythonOperator\n",
    "import pandas as pd\n",
    "\n",
    "\n",
    "# Функции для операторов\n",
    "def fetch_booking(**kwargs):\n",
    "    ti = kwargs['ti']\n",
    "    df = pd.read_csv('/home/executor/Загрузки/booking.csv')\n",
    "    ti.xcom_push(key='booking_df', value=df)\n",
    "\n",
    "\n",
    "def fetch_client(**kwargs):\n",
    "    ti = kwargs['ti']\n",
    "    df = pd.read_csv('/home/executor/Загрузки/client.csv')\n",
    "    ti.xcom_push(key='client_df', value=df)\n",
    "\n",
    "\n",
    "def fetch_hotel(**kwargs):\n",
    "    ti = kwargs['ti']\n",
    "    df = pd.read_csv('/home/executor/Загрузки/hotel.csv')\n",
    "    ti.xcom_push(key='hotel_df', value=df)\n",
    "\n",
    "\n",
    "def transform_data(**kwargs):\n",
    "    ti = kwargs['ti']\n",
    "    booking_df = ti.xcom_pull(task_ids='fetch_booking', key='booking_df')\n",
    "    client_df = ti.xcom_pull(task_ids='fetch_client', key='client_df')\n",
    "    hotel_df = ti.xcom_pull(task_ids='fetch_hotel', key='hotel_df')\n",
    "\n",
    "    # Объединение таблиц\n",
    "    combined_df = booking_df.merge(client_df, on='client_id', how='left')\n",
    "    combined_df = combined_df.merge(hotel_df, on='hotel_id', how='left')\n",
    "\n",
    "    # Приведение дат к одному формату\n",
    "    combined_df['booking_date'] = pd.to_datetime(combined_df['booking_date'], errors='coerce')\n",
    "\n",
    "    # Удаление невалидных колонок (предполагаем, что 'currency' невалидная)\n",
    "    combined_df.drop(columns=['currency'], inplace=True)\n",
    "\n",
    "    # Приведение валют к одной (например, к USD, предполагаем, что все уже в GBP)\n",
    "    # Для конвертации валют требуется функция конвертации, здесь просто предполагаем, что все значения уже в GBP\n",
    "\n",
    "    # Сохранение в pandas DataFrame (для примера сохраняем в CSV)\n",
    "    combined_df.to_csv('/home/executor/Загрузки/transformed_data.csv', index=False)\n",
    "\n",
    "    # Подтверждение успешного выполнения операции трансформации\n",
    "    ti.xcom_push(key='transformed_data', value='Data transformed successfully')\n",
    "\n",
    "\n",
    "# Определение стандартных аргументов DAG\n",
    "default_args = {\n",
    "    'owner': 'airflow',\n",
    "    'start_date': datetime(2023, 1, 1),\n",
    "    'retries': 1,\n",
    "    'retry_delay': timedelta(minutes=5),\n",
    "}\n",
    "\n",
    "# Определение DAG\n",
    "dag = DAG(\n",
    "    'etl_dag',\n",
    "    default_args=default_args,\n",
    "    description='An ETL DAG to load, transform, and save booking, client, and hotel data',\n",
    "    schedule_interval=None,\n",
    ")\n",
    "\n",
    "# Определение PythonOperator для чтения файлов\n",
    "fetch_booking_task = PythonOperator(\n",
    "    task_id='fetch_booking',\n",
    "    python_callable=fetch_booking,\n",
    "    provide_context=True,\n",
    "    dag=dag,\n",
    ")\n",
    "\n",
    "fetch_client_task = PythonOperator(\n",
    "    task_id='fetch_client',\n",
    "    python_callable=fetch_client,\n",
    "    provide_context=True,\n",
    "    dag=dag,\n",
    ")\n",
    "\n",
    "fetch_hotel_task = PythonOperator(\n",
    "    task_id='fetch_hotel',\n",
    "    python_callable=fetch_hotel,\n",
    "    provide_context=True,\n",
    "    dag=dag,\n",
    ")\n",
    "\n",
    "# Определение PythonOperator для трансформации данных\n",
    "transform_task = PythonOperator(\n",
    "    task_id='transform_data',\n",
    "    python_callable=transform_data,\n",
    "    provide_context=True,\n",
    "    dag=dag,\n",
    ")\n",
    "\n",
    "# Определение последовательности выполнения задач\n",
    "fetch_booking_task >> transform_task\n",
    "fetch_client_task >> transform_task\n",
    "fetch_hotel_task >> transform_task"
   ]
  },
  {
   "cell_type": "markdown",
   "metadata": {},
   "source": [
    "![DAGs](DAGs.png)"
   ]
  },
  {
   "cell_type": "markdown",
   "metadata": {},
   "source": [
    "![Details_](Details_.png)"
   ]
  },
  {
   "cell_type": "markdown",
   "metadata": {},
   "source": [
    "![EventLog](Event_Log.png)"
   ]
  },
  {
   "cell_type": "markdown",
   "metadata": {},
   "source": [
    "![Gantt](Gantt.png)"
   ]
  },
  {
   "cell_type": "markdown",
   "metadata": {},
   "source": [
    "![Graph](Graph.png)"
   ]
  },
  {
   "cell_type": "markdown",
   "metadata": {},
   "source": [
    "![Logs_1](Logs_1.png)"
   ]
  },
  {
   "cell_type": "markdown",
   "metadata": {},
   "source": [
    "![Lods_2](Lods_2.png)"
   ]
  },
  {
   "cell_type": "markdown",
   "metadata": {},
   "source": [
    "![]()"
   ]
  },
  {
   "cell_type": "markdown",
   "metadata": {},
   "source": [
    "![Lods_3](Lods_3.png)"
   ]
  },
  {
   "cell_type": "markdown",
   "metadata": {},
   "source": [
    "![XCom](XCom.png)"
   ]
  }
 ],
 "metadata": {
  "kernelspec": {
   "display_name": ".venv",
   "language": "python",
   "name": "python3"
  },
  "language_info": {
   "codemirror_mode": {
    "name": "ipython",
    "version": 3
   },
   "file_extension": ".py",
   "mimetype": "text/x-python",
   "name": "python",
   "nbconvert_exporter": "python",
   "pygments_lexer": "ipython3",
   "version": "3.12.2"
  }
 },
 "nbformat": 4,
 "nbformat_minor": 2
}
