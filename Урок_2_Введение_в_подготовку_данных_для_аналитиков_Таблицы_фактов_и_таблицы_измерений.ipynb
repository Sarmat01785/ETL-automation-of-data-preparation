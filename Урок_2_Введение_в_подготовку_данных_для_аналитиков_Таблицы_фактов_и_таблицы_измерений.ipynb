{
 "cells": [
  {
   "cell_type": "markdown",
   "metadata": {},
   "source": [
    "# ETL: автоматизация подготовки данных семинары\n",
    "\n",
    "## Урок 2. Введение в подготовку данных для аналитиков. Таблицы фактов и таблицы измерений\n",
    "\n",
    "1. Скачайте датасет fifа_s2.сsv. Проанализируйте его и определите, какие данные являются неполными. Удалите\n",
    "ненужные колонки и недостающие значения.\n",
    "\n",
    "2. Найдите в датафрейме полные дубликаты и удалите их. Значения могут быть одинаковыми, но написаны по-разному. Например, может отличаться размер регистра (заглавные и строчные буквы). Особое внимание уделить колонке с названиями команд.\n",
    "\n",
    "3. Напишите функцию, которая добавит колонку с разбиением возраста по группам: до 20, от 20 до 30, от 30 до\n",
    "36 и старше 36. Посчитайте количество футболистов в каждой категории."
   ]
  },
  {
   "cell_type": "code",
   "execution_count": 36,
   "metadata": {},
   "outputs": [],
   "source": [
    "import init_spark_env"
   ]
  },
  {
   "cell_type": "code",
   "execution_count": 37,
   "metadata": {},
   "outputs": [],
   "source": [
    "from pyspark.sql import SparkSession\n",
    "from pyspark.sql.functions import col, count, when, udf, lower\n",
    "from pyspark.sql.types import StringType"
   ]
  },
  {
   "cell_type": "code",
   "execution_count": 38,
   "metadata": {},
   "outputs": [],
   "source": [
    "# Инициализация Spark Session\n",
    "spark = SparkSession.builder.appName(\"FIFA Data Preparation\").getOrCreate()"
   ]
  },
  {
   "cell_type": "code",
   "execution_count": 39,
   "metadata": {},
   "outputs": [
    {
     "data": {
      "text/html": [
       "\n",
       "            <div>\n",
       "                <p><b>SparkSession - in-memory</b></p>\n",
       "                \n",
       "        <div>\n",
       "            <p><b>SparkContext</b></p>\n",
       "\n",
       "            <p><a href=\"http://Quantum:4040\">Spark UI</a></p>\n",
       "\n",
       "            <dl>\n",
       "              <dt>Version</dt>\n",
       "                <dd><code>v3.5.2</code></dd>\n",
       "              <dt>Master</dt>\n",
       "                <dd><code>local[*]</code></dd>\n",
       "              <dt>AppName</dt>\n",
       "                <dd><code>FIFA Data Preparation</code></dd>\n",
       "            </dl>\n",
       "        </div>\n",
       "        \n",
       "            </div>\n",
       "        "
      ],
      "text/plain": [
       "<pyspark.sql.session.SparkSession at 0x7f4228401400>"
      ]
     },
     "execution_count": 39,
     "metadata": {},
     "output_type": "execute_result"
    }
   ],
   "source": [
    "spark"
   ]
  },
  {
   "cell_type": "code",
   "execution_count": 40,
   "metadata": {},
   "outputs": [
    {
     "data": {
      "text/plain": [
       "DataFrame[ID: int, Name: string, Age: int, Nationality: string, Overall: int, Potential: int, Club: string, Value: int, Wage: int, Preferred Foot: string, International Reputation: int, Skill Moves: int, Position: string, Joined: int, Contract Valid Until: string, Height: double, Weight: double, Release Clause: double]"
      ]
     },
     "execution_count": 40,
     "metadata": {},
     "output_type": "execute_result"
    }
   ],
   "source": [
    "# Загрузка данных\n",
    "df = spark.read.csv(\"fifa_s2.csv\", header=True, inferSchema=True)\n",
    "df"
   ]
  },
  {
   "cell_type": "code",
   "execution_count": 41,
   "metadata": {},
   "outputs": [
    {
     "name": "stdout",
     "output_type": "stream",
     "text": [
      "+-----+-----------------+---+-------------------+-------+---------+-------------------+-----+----+--------------+------------------------+-----------+--------+------+--------------------+-----------+------+--------------+\n",
      "|   ID|             Name|Age|        Nationality|Overall|Potential|               Club|Value|Wage|Preferred Foot|International Reputation|Skill Moves|Position|Joined|Contract Valid Until|     Height|Weight|Release Clause|\n",
      "+-----+-----------------+---+-------------------+-------+---------+-------------------+-----+----+--------------+------------------------+-----------+--------+------+--------------------+-----------+------+--------------+\n",
      "| 1179|        G. Buffon| 40|              Italy|     88|       88|Paris Saint-Germain| 4000|  77|         Right|                       4|          1|      GK|  2018|          01/01/2019|6.333333333| 203.0|        7400.0|\n",
      "| 5479|         Casillas| 37|              Spain|     82|       82|           FC Porto| 1500|  10|          Left|                       4|          1|    NULL|  2015|          01/01/2019|6.083333333| 185.0|        3000.0|\n",
      "| 8205|            Braga| 35|           Portugal|     70|       70|            CD Aves|  750|   5|         Right|                       1|          3|     LCM|  2017|          01/01/2019|5.916666667| 165.0|        1600.0|\n",
      "| 9014|        A. Robben| 34|        Netherlands|     84|       84|  FC Bayern München|15500| 110|          Left|                       4|          4|      RM|  2009|          01/01/2019|5.916666667| 176.0|       25600.0|\n",
      "|19521|        J. Ibehre| 35|            England|     61|       61|   Cambridge United|  120|   2|         Right|                       1|          2|      ST|  2017|          01/01/2019|6.333333333| 203.0|         210.0|\n",
      "|20209|    Ricardo Costa| 37|           Portugal|     74|       74|         CD Tondela|  750|   4|         Right|                       2|          2|     LCB|  2017|          01/01/2019|        6.0| 181.0|        1600.0|\n",
      "|20801|Cristiano Ronaldo| 33|           Portugal|     94|       94|           Juventus|77000| 405|         Right|                       5|          5|      ST|  2018|          01/01/2022|6.166666667| 183.0|      127100.0|\n",
      "|24630|       Pepe Reina| 35|              Spain|     83|       83|              Milan| 6000|  56|         Right|                       3|          1|      GK|  2018|                NULL|6.166666667| 203.0|       10200.0|\n",
      "|27532|      D. de Vries| 37|        Netherlands|     66|       66|             Celtic|   40|   7|         Right|                       1|          1|      GK|  2016|          01/01/2019|       6.25| 212.0|          72.0|\n",
      "|45083|    S. von Bergen| 35|        Switzerland|     73|       73|     BSC Young Boys|  950|  12|         Right|                       2|          2|     LCB|  2013|          01/01/2022|        6.0| 174.0|        1400.0|\n",
      "|46175|     M. Rosenberg| 35|             Sweden|     73|       73|           Malmö FF| 1800|   6|         Right|                       1|          3|      RS|  2014|          01/01/2020|        6.0| 179.0|        2400.0|\n",
      "|47201|         S. Proto| 35|            Belgium|     76|       76|              Lazio| 1800|  20|         Right|                       2|          1|      GK|  2018|          01/01/2021|        6.0| 163.0|        3100.0|\n",
      "|48940|          P. Čech| 36|     Czech Republic|     82|       82|            Arsenal| 3000|  60|          Left|                       4|          1|    NULL|  2015|          01/01/2019|6.416666667| 198.0|        5700.0|\n",
      "|52498|       M. Lehmann| 35|            Germany|     72|       72|         1. FC Köln|  725|  10|         Right|                       2|          2|     CDM|  2012|          01/01/2019|5.833333333| 165.0|        1100.0|\n",
      "|52679|        J. Murphy| 36|Republic of Ireland|     62|       62|               Bury|   40|   1|          Left|                       1|          1|      GK|  2017|          01/01/2019|6.166666667| 194.0|          70.0|\n",
      "|53110|        C. Gordon| 35|           Scotland|     74|       74|             Celtic| 1300|  20|          Left|                       2|          1|      GK|  2014|          01/01/2020|6.333333333| 183.0|        2400.0|\n",
      "|53302|      D. De Rossi| 34|              Italy|     83|       83|               Roma| 8000|  80|         Right|                       3|          2|     RDM|  2002|                NULL|        6.0| 183.0|       13600.0|\n",
      "|53363|        A. Collin| 33|            England|     62|       62|    Carlisle United|  150|   2|         Right|                       1|          1|      GK|  2018|          01/01/2019|       6.25| 172.0|         263.0|\n",
      "|53739|         L. Grant| 35|            England|     74|       74|  Manchester United| 1300|  39|         Right|                       1|          1|      GK|  2018|          01/01/2020|6.333333333| 183.0|        2500.0|\n",
      "|53748|    K. Pilkington| 44|            England|     48|       48|   Cambridge United| NULL|   1|         Right|                       1|          1|      GK|  2018|          01/01/2023|6.166666667| 190.0|   4585.060806|\n",
      "+-----+-----------------+---+-------------------+-------+---------+-------------------+-----+----+--------------+------------------------+-----------+--------+------+--------------------+-----------+------+--------------+\n",
      "only showing top 20 rows\n",
      "\n"
     ]
    }
   ],
   "source": [
    "df.show()"
   ]
  },
  {
   "cell_type": "code",
   "execution_count": 42,
   "metadata": {},
   "outputs": [
    {
     "data": {
      "text/plain": [
       "<bound method DataFrame.printSchema of DataFrame[ID: int, Name: string, Age: int, Nationality: string, Overall: int, Potential: int, Club: string, Value: int, Wage: int, Preferred Foot: string, International Reputation: int, Skill Moves: int, Position: string, Joined: int, Contract Valid Until: string, Height: double, Weight: double, Release Clause: double]>"
      ]
     },
     "execution_count": 42,
     "metadata": {},
     "output_type": "execute_result"
    }
   ],
   "source": [
    "df.printSchema"
   ]
  },
  {
   "cell_type": "code",
   "execution_count": 43,
   "metadata": {},
   "outputs": [
    {
     "name": "stdout",
     "output_type": "stream",
     "text": [
      "root\n",
      " |-- ID: integer (nullable = true)\n",
      " |-- Name: string (nullable = true)\n",
      " |-- Age: integer (nullable = true)\n",
      " |-- Nationality: string (nullable = true)\n",
      " |-- Overall: integer (nullable = true)\n",
      " |-- Potential: integer (nullable = true)\n",
      " |-- Club: string (nullable = true)\n",
      " |-- Value: integer (nullable = true)\n",
      " |-- Wage: integer (nullable = true)\n",
      " |-- Preferred Foot: string (nullable = true)\n",
      " |-- International Reputation: integer (nullable = true)\n",
      " |-- Skill Moves: integer (nullable = true)\n",
      " |-- Position: string (nullable = true)\n",
      " |-- Joined: integer (nullable = true)\n",
      " |-- Contract Valid Until: string (nullable = true)\n",
      " |-- Height: double (nullable = true)\n",
      " |-- Weight: double (nullable = true)\n",
      " |-- Release Clause: double (nullable = true)\n",
      "\n"
     ]
    }
   ],
   "source": [
    "df.printSchema()"
   ]
  },
  {
   "cell_type": "code",
   "execution_count": 44,
   "metadata": {},
   "outputs": [
    {
     "data": {
      "text/plain": [
       "2399"
      ]
     },
     "execution_count": 44,
     "metadata": {},
     "output_type": "execute_result"
    }
   ],
   "source": [
    "df.count()"
   ]
  },
  {
   "cell_type": "code",
   "execution_count": 45,
   "metadata": {},
   "outputs": [
    {
     "name": "stdout",
     "output_type": "stream",
     "text": [
      "+---+----+---+-----------+-------+---------+----+-----+----+--------------+------------------------+-----------+--------+------+--------------------+------+------+--------------+\n",
      "| ID|Name|Age|Nationality|Overall|Potential|Club|Value|Wage|Preferred Foot|International Reputation|Skill Moves|Position|Joined|Contract Valid Until|Height|Weight|Release Clause|\n",
      "+---+----+---+-----------+-------+---------+----+-----+----+--------------+------------------------+-----------+--------+------+--------------------+------+------+--------------+\n",
      "|  0|   0|  0|          7|      0|        0| 241|  257|   0|             0|                      10|          6|      21|     0|                 273|     0|     0|             3|\n",
      "+---+----+---+-----------+-------+---------+----+-----+----+--------------+------------------------+-----------+--------+------+--------------------+------+------+--------------+\n",
      "\n"
     ]
    }
   ],
   "source": [
    "# Подсчет отсутствующих значений в каждой колонке\n",
    "df_missing_values = df.select([count(when(col(c).isNull(), c)).alias(c) for c in df.columns])\n",
    "\n",
    "# Выводим количество отсутствующих значений\n",
    "df_missing_values.show()"
   ]
  },
  {
   "cell_type": "code",
   "execution_count": 46,
   "metadata": {},
   "outputs": [],
   "source": [
    "# Удаление колонок с большим количеством отсутствующих значений\n",
    "columns_to_drop = ['Club', 'Contract Valid Until', 'Value']\n",
    "df_cleaned = df.drop(*columns_to_drop)\n",
    "\n",
    "# Удаление строк с отсутствующими значениями\n",
    "df_cleaned = df_cleaned.dropna()"
   ]
  },
  {
   "cell_type": "code",
   "execution_count": 47,
   "metadata": {},
   "outputs": [],
   "source": [
    "# Приведение всех строковых колонок к нижнему регистру\n",
    "string_columns = [field.name for field in df_cleaned.schema.fields if isinstance(field.dataType, StringType)]\n",
    "for col_name in string_columns:\n",
    "    df_cleaned = df_cleaned.withColumn(col_name, lower(col(col_name)))\n",
    "\n",
    "# Удаление полных дубликатов строк\n",
    "df_no_duplicates = df_cleaned.dropDuplicates()"
   ]
  },
  {
   "cell_type": "code",
   "execution_count": 48,
   "metadata": {},
   "outputs": [
    {
     "name": "stderr",
     "output_type": "stream",
     "text": [
      "[Stage 11:>                                                         (0 + 1) / 1]\r"
     ]
    },
    {
     "name": "stdout",
     "output_type": "stream",
     "text": [
      "+--------+-----+\n",
      "|AgeGroup|count|\n",
      "+--------+-----+\n",
      "|31 to 36|  327|\n",
      "|Under 20|  269|\n",
      "| Over 36|   14|\n",
      "|20 to 30| 1744|\n",
      "+--------+-----+\n",
      "\n"
     ]
    },
    {
     "name": "stderr",
     "output_type": "stream",
     "text": [
      "                                                                                \r"
     ]
    }
   ],
   "source": [
    "# Функция для определения возрастной группы\n",
    "def age_group(age):\n",
    "    if age < 20:\n",
    "        return 'Under 20'\n",
    "    elif 20 <= age <= 30:\n",
    "        return '20 to 30'\n",
    "    elif 31 <= age <= 36:\n",
    "        return '31 to 36'\n",
    "    else:\n",
    "        return 'Over 36'\n",
    "\n",
    "# Регистрация UDF\n",
    "age_group_udf = udf(age_group, StringType())\n",
    "\n",
    "# Добавление новой колонки 'AgeGroup'\n",
    "df_with_age_groups = df_no_duplicates.withColumn('AgeGroup', age_group_udf(col('Age')))\n",
    "\n",
    "# Подсчет количества футболистов в каждой возрастной группе\n",
    "age_group_counts = df_with_age_groups.groupBy('AgeGroup').count()\n",
    "\n",
    "# Вывод результатов\n",
    "age_group_counts.show()"
   ]
  },
  {
   "cell_type": "code",
   "execution_count": 49,
   "metadata": {},
   "outputs": [],
   "source": [
    "spark.stop()"
   ]
  }
 ],
 "metadata": {
  "kernelspec": {
   "display_name": ".venv",
   "language": "python",
   "name": "python3"
  },
  "language_info": {
   "codemirror_mode": {
    "name": "ipython",
    "version": 3
   },
   "file_extension": ".py",
   "mimetype": "text/x-python",
   "name": "python",
   "nbconvert_exporter": "python",
   "pygments_lexer": "ipython3",
   "version": "3.12.2"
  }
 },
 "nbformat": 4,
 "nbformat_minor": 2
}
