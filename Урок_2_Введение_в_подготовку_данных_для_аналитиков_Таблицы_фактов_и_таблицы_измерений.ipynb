{
 "cells": [
  {
   "cell_type": "markdown",
   "metadata": {},
   "source": [
    "# ETL: автоматизация подготовки данных семинары\n",
    "\n",
    "## Урок 2. Введение в подготовку данных для аналитиков. Таблицы фактов и таблицы измерений\n",
    "\n",
    "1. Скачайте датасет fifа_s2.сsv. Проанализируйте его и определите, какие данные являются неполными. Удалите\n",
    "ненужные колонки и недостающие значения.\n",
    "\n",
    "2. Найдите в датафрейме полные дубликаты и удалите их. Значения могут быть одинаковыми, но написаны по-разному. Например, может отличаться размер регистра (заглавные и строчные буквы). Особое внимание уделить колонке с названиями команд.\n",
    "\n",
    "3. Напишите функцию, которая добавит колонку с разбиением возраста по группам: до 20, от 20 до 30, от 30 до\n",
    "36 и старше 36. Посчитайте количество футболистов в каждой категории."
   ]
  },
  {
   "cell_type": "code",
   "execution_count": 18,
   "metadata": {},
   "outputs": [],
   "source": [
    "import init_spark_env"
   ]
  },
  {
   "cell_type": "code",
   "execution_count": 19,
   "metadata": {},
   "outputs": [],
   "source": [
    "from pyspark.sql import SparkSession\n",
    "from pyspark.sql.functions import col, count, when, udf, lower\n",
    "from pyspark.sql.types import StringType"
   ]
  },
  {
   "cell_type": "code",
   "execution_count": 20,
   "metadata": {},
   "outputs": [],
   "source": [
    "# Инициализация Spark Session\n",
    "spark = SparkSession.builder.appName(\"FIFA Data Preparation\").getOrCreate()"
   ]
  },
  {
   "cell_type": "code",
   "execution_count": 21,
   "metadata": {},
   "outputs": [
    {
     "data": {
      "text/html": [
       "\n",
       "            <div>\n",
       "                <p><b>SparkSession - in-memory</b></p>\n",
       "                \n",
       "        <div>\n",
       "            <p><b>SparkContext</b></p>\n",
       "\n",
       "            <p><a href=\"http://Quantum:4040\">Spark UI</a></p>\n",
       "\n",
       "            <dl>\n",
       "              <dt>Version</dt>\n",
       "                <dd><code>v3.5.2</code></dd>\n",
       "              <dt>Master</dt>\n",
       "                <dd><code>local[*]</code></dd>\n",
       "              <dt>AppName</dt>\n",
       "                <dd><code>FIFA Data Preparation</code></dd>\n",
       "            </dl>\n",
       "        </div>\n",
       "        \n",
       "            </div>\n",
       "        "
      ],
      "text/plain": [
       "<pyspark.sql.session.SparkSession at 0x7f4229b2fe00>"
      ]
     },
     "execution_count": 21,
     "metadata": {},
     "output_type": "execute_result"
    }
   ],
   "source": [
    "spark"
   ]
  },
  {
   "cell_type": "code",
   "execution_count": 22,
   "metadata": {},
   "outputs": [
    {
     "data": {
      "text/plain": [
       "DataFrame[ID: int, Name: string, Age: int, Nationality: string, Overall: int, Potential: int, Club: string, Value: int, Wage: int, Preferred Foot: string, International Reputation: int, Skill Moves: int, Position: string, Joined: int, Contract Valid Until: string, Height: double, Weight: double, Release Clause: double]"
      ]
     },
     "execution_count": 22,
     "metadata": {},
     "output_type": "execute_result"
    }
   ],
   "source": [
    "# Загрузка данных\n",
    "df = spark.read.csv(\"fifa_s2.csv\", header=True, inferSchema=True)\n",
    "df"
   ]
  },
  {
   "cell_type": "code",
   "execution_count": 23,
   "metadata": {},
   "outputs": [
    {
     "data": {
      "text/plain": [
       "<bound method DataFrame.printSchema of DataFrame[ID: int, Name: string, Age: int, Nationality: string, Overall: int, Potential: int, Club: string, Value: int, Wage: int, Preferred Foot: string, International Reputation: int, Skill Moves: int, Position: string, Joined: int, Contract Valid Until: string, Height: double, Weight: double, Release Clause: double]>"
      ]
     },
     "execution_count": 23,
     "metadata": {},
     "output_type": "execute_result"
    }
   ],
   "source": [
    "df.printSchema"
   ]
  },
  {
   "cell_type": "code",
   "execution_count": 24,
   "metadata": {},
   "outputs": [
    {
     "name": "stdout",
     "output_type": "stream",
     "text": [
      "root\n",
      " |-- ID: integer (nullable = true)\n",
      " |-- Name: string (nullable = true)\n",
      " |-- Age: integer (nullable = true)\n",
      " |-- Nationality: string (nullable = true)\n",
      " |-- Overall: integer (nullable = true)\n",
      " |-- Potential: integer (nullable = true)\n",
      " |-- Club: string (nullable = true)\n",
      " |-- Value: integer (nullable = true)\n",
      " |-- Wage: integer (nullable = true)\n",
      " |-- Preferred Foot: string (nullable = true)\n",
      " |-- International Reputation: integer (nullable = true)\n",
      " |-- Skill Moves: integer (nullable = true)\n",
      " |-- Position: string (nullable = true)\n",
      " |-- Joined: integer (nullable = true)\n",
      " |-- Contract Valid Until: string (nullable = true)\n",
      " |-- Height: double (nullable = true)\n",
      " |-- Weight: double (nullable = true)\n",
      " |-- Release Clause: double (nullable = true)\n",
      "\n"
     ]
    }
   ],
   "source": [
    "df.printSchema()"
   ]
  },
  {
   "cell_type": "code",
   "execution_count": 25,
   "metadata": {},
   "outputs": [
    {
     "data": {
      "text/plain": [
       "2399"
      ]
     },
     "execution_count": 25,
     "metadata": {},
     "output_type": "execute_result"
    }
   ],
   "source": [
    "df.count()"
   ]
  },
  {
   "cell_type": "code",
   "execution_count": 28,
   "metadata": {},
   "outputs": [
    {
     "name": "stdout",
     "output_type": "stream",
     "text": [
      "+---+----+---+-----------+-------+---------+----+-----+----+--------------+------------------------+-----------+--------+------+--------------------+------+------+--------------+\n",
      "| ID|Name|Age|Nationality|Overall|Potential|Club|Value|Wage|Preferred Foot|International Reputation|Skill Moves|Position|Joined|Contract Valid Until|Height|Weight|Release Clause|\n",
      "+---+----+---+-----------+-------+---------+----+-----+----+--------------+------------------------+-----------+--------+------+--------------------+------+------+--------------+\n",
      "|  0|   0|  0|          7|      0|        0| 241|  257|   0|             0|                      10|          6|      21|     0|                 273|     0|     0|             3|\n",
      "+---+----+---+-----------+-------+---------+----+-----+----+--------------+------------------------+-----------+--------+------+--------------------+------+------+--------------+\n",
      "\n"
     ]
    }
   ],
   "source": [
    "# Подсчет отсутствующих значений в каждой колонке\n",
    "df_missing_values = df.select([count(when(col(c).isNull(), c)).alias(c) for c in df.columns])\n",
    "\n",
    "# Выводим количество отсутствующих значений\n",
    "df_missing_values.show()"
   ]
  },
  {
   "cell_type": "code",
   "execution_count": 29,
   "metadata": {},
   "outputs": [],
   "source": [
    "# Удаление колонок с большим количеством отсутствующих значений\n",
    "columns_to_drop = ['Club', 'Contract Valid Until', 'Value']\n",
    "df_cleaned = df.drop(*columns_to_drop)\n",
    "\n",
    "# Удаление строк с отсутствующими значениями\n",
    "df_cleaned = df_cleaned.dropna()"
   ]
  },
  {
   "cell_type": "code",
   "execution_count": 32,
   "metadata": {},
   "outputs": [],
   "source": [
    "# Приведение всех строковых колонок к нижнему регистру\n",
    "string_columns = [field.name for field in df_cleaned.schema.fields if isinstance(field.dataType, StringType)]\n",
    "for col_name in string_columns:\n",
    "    df_cleaned = df_cleaned.withColumn(col_name, lower(col(col_name)))\n",
    "\n",
    "# Удаление полных дубликатов строк\n",
    "df_no_duplicates = df_cleaned.dropDuplicates()"
   ]
  },
  {
   "cell_type": "code",
   "execution_count": 33,
   "metadata": {},
   "outputs": [
    {
     "name": "stderr",
     "output_type": "stream",
     "text": [
      "[Stage 21:>                                                         (0 + 1) / 1]\r"
     ]
    },
    {
     "name": "stdout",
     "output_type": "stream",
     "text": [
      "+--------+-----+\n",
      "|AgeGroup|count|\n",
      "+--------+-----+\n",
      "|31 to 36|  327|\n",
      "|Under 20|  269|\n",
      "| Over 36|   14|\n",
      "|20 to 30| 1744|\n",
      "+--------+-----+\n",
      "\n"
     ]
    },
    {
     "name": "stderr",
     "output_type": "stream",
     "text": [
      "                                                                                \r"
     ]
    }
   ],
   "source": [
    "# Функция для определения возрастной группы\n",
    "def age_group(age):\n",
    "    if age < 20:\n",
    "        return 'Under 20'\n",
    "    elif 20 <= age <= 30:\n",
    "        return '20 to 30'\n",
    "    elif 31 <= age <= 36:\n",
    "        return '31 to 36'\n",
    "    else:\n",
    "        return 'Over 36'\n",
    "\n",
    "# Регистрация UDF\n",
    "age_group_udf = udf(age_group, StringType())\n",
    "\n",
    "# Добавление новой колонки 'AgeGroup'\n",
    "df_with_age_groups = df_no_duplicates.withColumn('AgeGroup', age_group_udf(col('Age')))\n",
    "\n",
    "# Подсчет количества футболистов в каждой возрастной группе\n",
    "age_group_counts = df_with_age_groups.groupBy('AgeGroup').count()\n",
    "\n",
    "# Вывод результатов\n",
    "age_group_counts.show()"
   ]
  },
  {
   "cell_type": "code",
   "execution_count": 34,
   "metadata": {},
   "outputs": [],
   "source": [
    "spark.stop()"
   ]
  }
 ],
 "metadata": {
  "kernelspec": {
   "display_name": ".venv",
   "language": "python",
   "name": "python3"
  },
  "language_info": {
   "codemirror_mode": {
    "name": "ipython",
    "version": 3
   },
   "file_extension": ".py",
   "mimetype": "text/x-python",
   "name": "python",
   "nbconvert_exporter": "python",
   "pygments_lexer": "ipython3",
   "version": "3.12.2"
  }
 },
 "nbformat": 4,
 "nbformat_minor": 2
}
