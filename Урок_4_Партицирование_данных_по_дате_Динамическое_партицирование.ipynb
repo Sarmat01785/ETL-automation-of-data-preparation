{
 "cells": [
  {
   "cell_type": "markdown",
   "metadata": {},
   "source": [
    "# ETL: автоматизация подготовки данных семинары\n",
    "\n",
    "## Урок 4. Партицирование данных по дате. Динамическое партицирование\n",
    "\n",
    "1. Создайте таблицу movies с полями movies_type, director, year_of_issue, length_in_minutes, rate.\n",
    "\n",
    "2. Сделайте таблицы для горизонтального партицирования по году выпуска (до 1990, 1990 -2000, 2000- 2010, 2010-2020, после 2020).\n",
    "\n",
    "3. Сделайте таблицы для горизонтального партицирования по длине фильма (до 40 минута, от 40 до 90 минут, от 90 до 130 минут, более 130 минут).\n",
    "\n",
    "4. Сделайте таблицы для горизонтального партицирования по рейтингу фильма (ниже 5, от 5 до 8, от 8до 10).\n",
    "\n",
    "5. Создайте правила добавления данных для каждой таблицы.\n",
    "\n",
    "6. Добавьте фильмы так, чтобы в каждой таблице было не менее 3 фильмов.\n",
    "\n",
    "7. Добавьте пару фильмов с рейтингом выше 10."
   ]
  },
  {
   "cell_type": "code",
   "execution_count": 1,
   "metadata": {},
   "outputs": [],
   "source": [
    "import init_spark_env"
   ]
  },
  {
   "cell_type": "code",
   "execution_count": 2,
   "metadata": {},
   "outputs": [],
   "source": [
    "from pyspark.sql import SparkSession\n",
    "from pyspark.sql import Row"
   ]
  },
  {
   "cell_type": "code",
   "execution_count": 3,
   "metadata": {},
   "outputs": [
    {
     "name": "stderr",
     "output_type": "stream",
     "text": [
      "Setting default log level to \"WARN\".\n",
      "To adjust logging level use sc.setLogLevel(newLevel). For SparkR, use setLogLevel(newLevel).\n",
      "24/10/16 21:01:50 WARN NativeCodeLoader: Unable to load native-hadoop library for your platform... using builtin-java classes where applicable\n"
     ]
    }
   ],
   "source": [
    "# Инициализация Spark Session\n",
    "spark = SparkSession.builder .appName(\"Movies Data Preparation\").getOrCreate()"
   ]
  },
  {
   "cell_type": "code",
   "execution_count": 6,
   "metadata": {},
   "outputs": [
    {
     "data": {
      "text/html": [
       "\n",
       "            <div>\n",
       "                <p><b>SparkSession - in-memory</b></p>\n",
       "                \n",
       "        <div>\n",
       "            <p><b>SparkContext</b></p>\n",
       "\n",
       "            <p><a href=\"http://Quantum:4040\">Spark UI</a></p>\n",
       "\n",
       "            <dl>\n",
       "              <dt>Version</dt>\n",
       "                <dd><code>v3.5.2</code></dd>\n",
       "              <dt>Master</dt>\n",
       "                <dd><code>local[*]</code></dd>\n",
       "              <dt>AppName</dt>\n",
       "                <dd><code>Movies Data Preparation</code></dd>\n",
       "            </dl>\n",
       "        </div>\n",
       "        \n",
       "            </div>\n",
       "        "
      ],
      "text/plain": [
       "<pyspark.sql.session.SparkSession at 0x7f5254363f20>"
      ]
     },
     "execution_count": 6,
     "metadata": {},
     "output_type": "execute_result"
    }
   ],
   "source": [
    "spark"
   ]
  },
  {
   "cell_type": "code",
   "execution_count": 7,
   "metadata": {},
   "outputs": [],
   "source": [
    "# 1. Создаем схему DataFrame для таблицы movies\n",
    "from pyspark.sql.types import StructType, StructField, StringType, IntegerType, FloatType\n",
    "\n",
    "schema = StructType([\n",
    "    StructField(\"movies_type\", StringType(), True),\n",
    "    StructField(\"director\", StringType(), True),\n",
    "    StructField(\"year_of_issue\", IntegerType(), True),\n",
    "    StructField(\"length_in_minutes\", IntegerType(), True),\n",
    "    StructField(\"rate\", FloatType(), True)\n",
    "])"
   ]
  },
  {
   "cell_type": "code",
   "execution_count": 12,
   "metadata": {},
   "outputs": [],
   "source": [
    "# 2. Создаем DataFrame для партицирования по году выпуска\n",
    "movies_rdd = spark.sparkContext.parallelize([\n",
    "    Row(movies_type='Action', director='Director A', year_of_issue=1985, length_in_minutes=120, rate=7.2),\n",
    "    Row(movies_type='Drama', director='Director B', year_of_issue=1995, length_in_minutes=150, rate=8.5),\n",
    "    Row(movies_type='Comedy', director='Director C', year_of_issue=2005, length_in_minutes=90, rate=6.5),\n",
    "])\n",
    "movies_df = spark.createDataFrame(movies_rdd, schema)"
   ]
  },
  {
   "cell_type": "code",
   "execution_count": 15,
   "metadata": {},
   "outputs": [],
   "source": [
    "# Горизонтальное партицирование по году выпуска\n",
    "movies_pre_1990 = movies_df.filter(\"year_of_issue < 1990\")\n",
    "movies_1990_2000 = movies_df.filter(\"year_of_issue >= 1990 AND year_of_issue < 2000\")\n",
    "movies_2000_2010 = movies_df.filter(\"year_of_issue >= 2000 AND year_of_issue < 2010\")\n",
    "movies_2010_2020 = movies_df.filter(\"year_of_issue >= 2010 AND year_of_issue < 2020\")\n",
    "movies_post_2020 = movies_df.filter(\"year_of_issue >= 2020\")"
   ]
  },
  {
   "cell_type": "code",
   "execution_count": 16,
   "metadata": {},
   "outputs": [],
   "source": [
    "# 3. Горизонтальное партицирование по длине фильма\n",
    "movies_short = movies_df.filter(\"length_in_minutes < 40\")\n",
    "movies_medium = movies_df.filter(\"length_in_minutes >= 40 AND length_in_minutes < 90\")\n",
    "movies_long = movies_df.filter(\"length_in_minutes >= 90 AND length_in_minutes < 130\")\n",
    "movies_very_long = movies_df.filter(\"length_in_minutes >= 130\")"
   ]
  },
  {
   "cell_type": "code",
   "execution_count": 17,
   "metadata": {},
   "outputs": [],
   "source": [
    "# 4. Горизонтальное партицирование по рейтингу фильма\n",
    "movies_low_rate = movies_df.filter(\"rate < 5\")\n",
    "movies_medium_rate = movies_df.filter(\"rate >= 5 AND rate < 8\")\n",
    "movies_high_rate = movies_df.filter(\"rate >= 8 AND rate <= 10\")"
   ]
  },
  {
   "cell_type": "code",
   "execution_count": 23,
   "metadata": {},
   "outputs": [],
   "source": [
    "# 5. В Apache Spark данные автоматически добавляются в DataFrame при его создании. \n",
    "# Но, если мы хотим добавить данные динамически, можно использовать union или join операции.\n",
    "\n",
    "# 6. Добавление фильмов в DataFrame (для примера добавим три фильма с рейтингом выше 10)\n",
    "extra_movies_rdd = spark.sparkContext.parallelize([\n",
    "    Row(movies_type='Sci-Fi', director='Director X', year_of_issue=2021, length_in_minutes=140, rate=10.5),\n",
    "    Row(movies_type='Fantasy', director='Director Y', year_of_issue=2022, length_in_minutes=200, rate=10.8),\n",
    "    Row(movies_type='Horror', director='Director Z', year_of_issue=2023, length_in_minutes=80, rate=11.0),\n",
    "])\n",
    "extra_movies_df = spark.createDataFrame(extra_movies_rdd, schema)\n",
    "movies_df = movies_df.union(extra_movies_df)"
   ]
  },
  {
   "cell_type": "code",
   "execution_count": 24,
   "metadata": {},
   "outputs": [
    {
     "name": "stderr",
     "output_type": "stream",
     "text": [
      "                                                                                \r"
     ]
    },
    {
     "name": "stdout",
     "output_type": "stream",
     "text": [
      "+-----------+----------+-------------+-----------------+----+\n",
      "|movies_type|  director|year_of_issue|length_in_minutes|rate|\n",
      "+-----------+----------+-------------+-----------------+----+\n",
      "|     Action|Director A|         1985|              120| 7.2|\n",
      "+-----------+----------+-------------+-----------------+----+\n",
      "\n",
      "+-----------+----------+-------------+-----------------+----+\n",
      "|movies_type|  director|year_of_issue|length_in_minutes|rate|\n",
      "+-----------+----------+-------------+-----------------+----+\n",
      "|      Drama|Director B|         1995|              150| 8.5|\n",
      "+-----------+----------+-------------+-----------------+----+\n",
      "\n",
      "+-----------+----------+-------------+-----------------+----+\n",
      "|movies_type|  director|year_of_issue|length_in_minutes|rate|\n",
      "+-----------+----------+-------------+-----------------+----+\n",
      "|     Comedy|Director C|         2005|               90| 6.5|\n",
      "+-----------+----------+-------------+-----------------+----+\n",
      "\n",
      "+-----------+--------+-------------+-----------------+----+\n",
      "|movies_type|director|year_of_issue|length_in_minutes|rate|\n",
      "+-----------+--------+-------------+-----------------+----+\n",
      "+-----------+--------+-------------+-----------------+----+\n",
      "\n",
      "+-----------+--------+-------------+-----------------+----+\n",
      "|movies_type|director|year_of_issue|length_in_minutes|rate|\n",
      "+-----------+--------+-------------+-----------------+----+\n",
      "+-----------+--------+-------------+-----------------+----+\n",
      "\n",
      "+-----------+--------+-------------+-----------------+----+\n",
      "|movies_type|director|year_of_issue|length_in_minutes|rate|\n",
      "+-----------+--------+-------------+-----------------+----+\n",
      "+-----------+--------+-------------+-----------------+----+\n",
      "\n",
      "+-----------+--------+-------------+-----------------+----+\n",
      "|movies_type|director|year_of_issue|length_in_minutes|rate|\n",
      "+-----------+--------+-------------+-----------------+----+\n",
      "+-----------+--------+-------------+-----------------+----+\n",
      "\n",
      "+-----------+----------+-------------+-----------------+----+\n",
      "|movies_type|  director|year_of_issue|length_in_minutes|rate|\n",
      "+-----------+----------+-------------+-----------------+----+\n",
      "|     Action|Director A|         1985|              120| 7.2|\n",
      "|     Comedy|Director C|         2005|               90| 6.5|\n",
      "+-----------+----------+-------------+-----------------+----+\n",
      "\n",
      "+-----------+----------+-------------+-----------------+----+\n",
      "|movies_type|  director|year_of_issue|length_in_minutes|rate|\n",
      "+-----------+----------+-------------+-----------------+----+\n",
      "|      Drama|Director B|         1995|              150| 8.5|\n",
      "+-----------+----------+-------------+-----------------+----+\n",
      "\n",
      "+-----------+--------+-------------+-----------------+----+\n",
      "|movies_type|director|year_of_issue|length_in_minutes|rate|\n",
      "+-----------+--------+-------------+-----------------+----+\n",
      "+-----------+--------+-------------+-----------------+----+\n",
      "\n",
      "+-----------+----------+-------------+-----------------+----+\n",
      "|movies_type|  director|year_of_issue|length_in_minutes|rate|\n",
      "+-----------+----------+-------------+-----------------+----+\n",
      "|     Action|Director A|         1985|              120| 7.2|\n",
      "|     Comedy|Director C|         2005|               90| 6.5|\n",
      "+-----------+----------+-------------+-----------------+----+\n",
      "\n",
      "+-----------+----------+-------------+-----------------+----+\n",
      "|movies_type|  director|year_of_issue|length_in_minutes|rate|\n",
      "+-----------+----------+-------------+-----------------+----+\n",
      "|      Drama|Director B|         1995|              150| 8.5|\n",
      "+-----------+----------+-------------+-----------------+----+\n",
      "\n"
     ]
    }
   ],
   "source": [
    "# 7. Фильмы с рейтингом выше 10 уже добавлены в предыдущем шаге.\n",
    "\n",
    "# 8. Выбор из всех таблиц\n",
    "movies_pre_1990.show()\n",
    "movies_1990_2000.show()\n",
    "movies_2000_2010.show()\n",
    "movies_2010_2020.show()\n",
    "movies_post_2020.show()\n",
    "movies_short.show()\n",
    "movies_medium.show()\n",
    "movies_long.show()\n",
    "movies_very_long.show()\n",
    "movies_low_rate.show()\n",
    "movies_medium_rate.show()\n",
    "movies_high_rate.show()"
   ]
  },
  {
   "cell_type": "code",
   "execution_count": 25,
   "metadata": {},
   "outputs": [
    {
     "name": "stderr",
     "output_type": "stream",
     "text": [
      "[Stage 39:=========================================>              (23 + 8) / 31]\r"
     ]
    },
    {
     "name": "stdout",
     "output_type": "stream",
     "text": [
      "+-----------+----------+-------------+-----------------+----+\n",
      "|movies_type|  director|year_of_issue|length_in_minutes|rate|\n",
      "+-----------+----------+-------------+-----------------+----+\n",
      "|     Action|Director A|         1985|              120| 7.2|\n",
      "|      Drama|Director B|         1995|              150| 8.5|\n",
      "|     Comedy|Director C|         2005|               90| 6.5|\n",
      "|     Sci-Fi|Director X|         2021|              140|10.5|\n",
      "|    Fantasy|Director Y|         2022|              200|10.8|\n",
      "|     Horror|Director Z|         2023|               80|11.0|\n",
      "|     Sci-Fi|Director X|         2021|              140|10.5|\n",
      "|    Fantasy|Director Y|         2022|              200|10.8|\n",
      "|     Horror|Director Z|         2023|               80|11.0|\n",
      "|     Sci-Fi|Director X|         2021|              140|10.5|\n",
      "|    Fantasy|Director Y|         2022|              200|10.8|\n",
      "|     Horror|Director Z|         2023|               80|11.0|\n",
      "|     Sci-Fi|Director X|         2021|              140|10.5|\n",
      "|    Fantasy|Director Y|         2022|              200|10.8|\n",
      "|     Horror|Director Z|         2023|               80|11.0|\n",
      "|     Sci-Fi|Director X|         2021|              140|10.5|\n",
      "|    Fantasy|Director Y|         2022|              200|10.8|\n",
      "|     Horror|Director Z|         2023|               80|11.0|\n",
      "|     Sci-Fi|Director X|         2021|              140|10.5|\n",
      "|    Fantasy|Director Y|         2022|              200|10.8|\n",
      "+-----------+----------+-------------+-----------------+----+\n",
      "only showing top 20 rows\n",
      "\n"
     ]
    },
    {
     "name": "stderr",
     "output_type": "stream",
     "text": [
      "                                                                                \r"
     ]
    }
   ],
   "source": [
    "# 9. Выбор только из основной таблицы\n",
    "movies_df.show()"
   ]
  },
  {
   "cell_type": "code",
   "execution_count": 26,
   "metadata": {},
   "outputs": [],
   "source": [
    "# Закрываем Spark Session после работы\n",
    "spark.stop()"
   ]
  }
 ],
 "metadata": {
  "kernelspec": {
   "display_name": ".venv",
   "language": "python",
   "name": "python3"
  },
  "language_info": {
   "codemirror_mode": {
    "name": "ipython",
    "version": 3
   },
   "file_extension": ".py",
   "mimetype": "text/x-python",
   "name": "python",
   "nbconvert_exporter": "python",
   "pygments_lexer": "ipython3",
   "version": "3.12.2"
  }
 },
 "nbformat": 4,
 "nbformat_minor": 2
}
