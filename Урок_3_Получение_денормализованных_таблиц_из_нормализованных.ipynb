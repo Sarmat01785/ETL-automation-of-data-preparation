{
 "cells": [
  {
   "cell_type": "markdown",
   "metadata": {},
   "source": [
    "# ETL: автоматизация подготовки данных семинары\n",
    "\n",
    "## Урок 3. Получение денормализованных таблиц из нормализованных\n",
    "\n",
    "1. Денормализуйте таблицу так, чтобы не нужно было для каждого рекламодателя постоянно подсчитывать количество кампаний и продаж."
   ]
  },
  {
   "cell_type": "code",
   "execution_count": 1,
   "metadata": {},
   "outputs": [],
   "source": [
    "import init_spark_env"
   ]
  },
  {
   "cell_type": "code",
   "execution_count": 2,
   "metadata": {},
   "outputs": [],
   "source": [
    "from pyspark.sql import SparkSession\n",
    "from pyspark.sql.functions import countDistinct"
   ]
  },
  {
   "cell_type": "code",
   "execution_count": 3,
   "metadata": {},
   "outputs": [
    {
     "name": "stderr",
     "output_type": "stream",
     "text": [
      "Setting default log level to \"WARN\".\n",
      "To adjust logging level use sc.setLogLevel(newLevel). For SparkR, use setLogLevel(newLevel).\n",
      "24/10/15 22:06:20 WARN NativeCodeLoader: Unable to load native-hadoop library for your platform... using builtin-java classes where applicable\n"
     ]
    }
   ],
   "source": [
    "# Создадим Spark сессию\n",
    "spark = SparkSession.builder \\\n",
    "    .appName(\"Denormalization\") \\\n",
    "    .getOrCreate()"
   ]
  },
  {
   "cell_type": "code",
   "execution_count": 4,
   "metadata": {},
   "outputs": [
    {
     "data": {
      "text/html": [
       "\n",
       "            <div>\n",
       "                <p><b>SparkSession - in-memory</b></p>\n",
       "                \n",
       "        <div>\n",
       "            <p><b>SparkContext</b></p>\n",
       "\n",
       "            <p><a href=\"http://Quantum:4040\">Spark UI</a></p>\n",
       "\n",
       "            <dl>\n",
       "              <dt>Version</dt>\n",
       "                <dd><code>v3.5.2</code></dd>\n",
       "              <dt>Master</dt>\n",
       "                <dd><code>local[*]</code></dd>\n",
       "              <dt>AppName</dt>\n",
       "                <dd><code>Denormalization</code></dd>\n",
       "            </dl>\n",
       "        </div>\n",
       "        \n",
       "            </div>\n",
       "        "
      ],
      "text/plain": [
       "<pyspark.sql.session.SparkSession at 0x7f7a084af320>"
      ]
     },
     "execution_count": 4,
     "metadata": {},
     "output_type": "execute_result"
    }
   ],
   "source": [
    "spark"
   ]
  },
  {
   "cell_type": "code",
   "execution_count": 7,
   "metadata": {},
   "outputs": [
    {
     "name": "stdout",
     "output_type": "stream",
     "text": [
      "+--------+------------+\n",
      "|UniqueID|        Name|\n",
      "+--------+------------+\n",
      "|       1|Advertiser A|\n",
      "|       2|Advertiser B|\n",
      "|       3|Advertiser C|\n",
      "+--------+------------+\n",
      "\n"
     ]
    }
   ],
   "source": [
    "# Создание нормализованных таблиц\n",
    "# Таблица \"Рекламодатели\"\n",
    "advertisers_data = [\n",
    "    (1, 'Advertiser A'),\n",
    "    (2, 'Advertiser B'),\n",
    "    (3, 'Advertiser C')\n",
    "]\n",
    "advertisers = spark.createDataFrame(advertisers_data, [\"UniqueID\", \"Name\"])\n",
    "\n",
    "advertisers.show()"
   ]
  },
  {
   "cell_type": "code",
   "execution_count": 8,
   "metadata": {},
   "outputs": [
    {
     "name": "stdout",
     "output_type": "stream",
     "text": [
      "+--------+-------------+\n",
      "|UniqueID|campaign_name|\n",
      "+--------+-------------+\n",
      "|       1|   Campaign 1|\n",
      "|       2|   Campaign 2|\n",
      "|       3|   Campaign 3|\n",
      "|       4|   Campaign 4|\n",
      "+--------+-------------+\n",
      "\n"
     ]
    }
   ],
   "source": [
    "# Таблица \"Кампании\"\n",
    "campaigns_data = [\n",
    "    (1, 'Campaign 1'),\n",
    "    (2, 'Campaign 2'),\n",
    "    (3, 'Campaign 3'),\n",
    "    (4, 'Campaign 4')\n",
    "]\n",
    "campaigns = spark.createDataFrame(campaigns_data, [\"UniqueID\", \"campaign_name\"])\n",
    "\n",
    "campaigns.show()"
   ]
  },
  {
   "cell_type": "code",
   "execution_count": 9,
   "metadata": {},
   "outputs": [
    {
     "name": "stdout",
     "output_type": "stream",
     "text": [
      "+--------+------------+-----------+\n",
      "|UniqueID|advertise_id|campaign_id|\n",
      "+--------+------------+-----------+\n",
      "|       1|           1|          1|\n",
      "|       2|           1|          2|\n",
      "|       3|           2|          3|\n",
      "|       4|           3|          4|\n",
      "|       5|           3|          4|\n",
      "+--------+------------+-----------+\n",
      "\n"
     ]
    }
   ],
   "source": [
    "# Таблица \"Продажи\"\n",
    "sales_data = [\n",
    "    (1, 1, 1),\n",
    "    (2, 1, 2),\n",
    "    (3, 2, 3),\n",
    "    (4, 3, 4),\n",
    "    (5, 3, 4)\n",
    "]\n",
    "sales = spark.createDataFrame(sales_data, [\"UniqueID\", \"advertise_id\", \"campaign_id\"])\n",
    "\n",
    "sales.show()\n"
   ]
  },
  {
   "cell_type": "code",
   "execution_count": 16,
   "metadata": {},
   "outputs": [],
   "source": [
    "# Денормализация данных\n",
    "# Подсчитаем количество уникальных кампаний и количество продаж для каждого рекламодателя\n",
    "campaign_counts = sales.groupBy(\"advertise_id\").agg(countDistinct(\"campaign_id\").alias(\"campaign_count\"))\n",
    "sales_counts = sales.groupBy(\"advertise_id\").count().withColumnRenamed(\"count\", \"sales_count\")"
   ]
  },
  {
   "cell_type": "code",
   "execution_count": 20,
   "metadata": {},
   "outputs": [],
   "source": [
    "# Объединим данные по рекламодателям с количеством кампаний и продаж\n",
    "denormalized_data = advertisers.join(campaign_counts, advertisers.UniqueID == campaign_counts.advertise_id, \"left\") \\\n",
    "                               .join(sales_counts, advertisers.UniqueID == sales_counts.advertise_id, \"left\") \\\n",
    "                               .drop(\"advertise_id\")"
   ]
  },
  {
   "cell_type": "code",
   "execution_count": 21,
   "metadata": {},
   "outputs": [
    {
     "name": "stderr",
     "output_type": "stream",
     "text": [
      "                                                                                \r"
     ]
    },
    {
     "name": "stdout",
     "output_type": "stream",
     "text": [
      "+--------+------------+--------------+-----------+\n",
      "|UniqueID|        Name|campaign_count|sales_count|\n",
      "+--------+------------+--------------+-----------+\n",
      "|       1|Advertiser A|             2|          2|\n",
      "|       2|Advertiser B|             1|          1|\n",
      "|       3|Advertiser C|             1|          2|\n",
      "+--------+------------+--------------+-----------+\n",
      "\n"
     ]
    }
   ],
   "source": [
    "# Заполним отсутствующие значения нулями и выведем результат\n",
    "denormalized_data = denormalized_data.fillna(0)\n",
    "denormalized_data.show()"
   ]
  },
  {
   "cell_type": "markdown",
   "metadata": {},
   "source": [
    "2. В базе данных есть две таблицы: страны и клиенты. Одной из потребностей компании является исследование клиентов и стран с точки зрения эффективности продаж, поэтому часто выполняются объединения между таблицами: клиенты и страны. Что нужно сделать, чтобы ограничить частое объединение этих двух таблиц?"
   ]
  },
  {
   "cell_type": "code",
   "execution_count": 23,
   "metadata": {},
   "outputs": [
    {
     "name": "stdout",
     "output_type": "stream",
     "text": [
      "+--------+------------+\n",
      "|UniqueID|country_name|\n",
      "+--------+------------+\n",
      "|       1|         USA|\n",
      "|       2|      Canada|\n",
      "|       3|      France|\n",
      "+--------+------------+\n",
      "\n"
     ]
    }
   ],
   "source": [
    "# Создание нормализованных таблиц\n",
    "# Таблица \"Страны\"\n",
    "countries_data = [\n",
    "    (1, 'USA'),\n",
    "    (2, 'Canada'),\n",
    "    (3, 'France')\n",
    "]\n",
    "countries = spark.createDataFrame(countries_data, [\"UniqueID\", \"country_name\"])\n",
    "\n",
    "countries.show()"
   ]
  },
  {
   "cell_type": "code",
   "execution_count": 24,
   "metadata": {},
   "outputs": [
    {
     "name": "stdout",
     "output_type": "stream",
     "text": [
      "+--------+-------------+----------+\n",
      "|UniqueID|customer_name|country_id|\n",
      "+--------+-------------+----------+\n",
      "|       1|     John Doe|         1|\n",
      "|       2|   Jane Smith|         2|\n",
      "|       3|  Alice Brown|         3|\n",
      "|       4|    Bob Davis|         1|\n",
      "+--------+-------------+----------+\n",
      "\n"
     ]
    }
   ],
   "source": [
    "# Таблица \"Клиенты\"\n",
    "customers_data = [\n",
    "    (1, 'John Doe', 1),\n",
    "    (2, 'Jane Smith', 2),\n",
    "    (3, 'Alice Brown', 3),\n",
    "    (4, 'Bob Davis', 1)\n",
    "]\n",
    "customers = spark.createDataFrame(customers_data, [\"UniqueID\", \"customer_name\", \"country_id\"])\n",
    "\n",
    "customers.show()"
   ]
  },
  {
   "cell_type": "code",
   "execution_count": 26,
   "metadata": {},
   "outputs": [
    {
     "name": "stderr",
     "output_type": "stream",
     "text": [
      "                                                                                \r"
     ]
    },
    {
     "name": "stdout",
     "output_type": "stream",
     "text": [
      "+--------+-------------+--------+----------------+\n",
      "|UniqueID|customer_name|UniqueID|customer_country|\n",
      "+--------+-------------+--------+----------------+\n",
      "|       1|     John Doe|       1|             USA|\n",
      "|       2|   Jane Smith|       2|          Canada|\n",
      "|       3|  Alice Brown|       3|          France|\n",
      "|       4|    Bob Davis|       1|             USA|\n",
      "+--------+-------------+--------+----------------+\n",
      "\n"
     ]
    }
   ],
   "source": [
    "# Денормализация данных\n",
    "# Объединим таблицу клиентов с таблицей стран, чтобы добавить информацию о стране\n",
    "denormalized_data = customers.join(countries, customers.country_id == countries.UniqueID, \"left\") \\\n",
    "                             .drop(\"country_id\") \\\n",
    "                             .withColumnRenamed(\"country_name\", \"customer_country\")\n",
    "\n",
    "# Вывод денормализованной таблицы\n",
    "denormalized_data.show()"
   ]
  },
  {
   "cell_type": "markdown",
   "metadata": {},
   "source": [
    "3. Вернемся к первому примеру. Предположим, компания хочет регулярно извлекать данные о продажах, например, о кампаниях или рекламодателях с полными именами. Как мы можем решить проблему постоянной необходимости\n",
    "объединения таблиц?"
   ]
  },
  {
   "cell_type": "code",
   "execution_count": 27,
   "metadata": {},
   "outputs": [
    {
     "name": "stdout",
     "output_type": "stream",
     "text": [
      "+--------+------------+\n",
      "|UniqueID|        Name|\n",
      "+--------+------------+\n",
      "|       1|Advertiser A|\n",
      "|       2|Advertiser B|\n",
      "|       3|Advertiser C|\n",
      "+--------+------------+\n",
      "\n"
     ]
    }
   ],
   "source": [
    "# Создание нормализованных таблиц\n",
    "# Таблица \"Рекламодатели\"\n",
    "advertisers_data = [\n",
    "    (1, 'Advertiser A'),\n",
    "    (2, 'Advertiser B'),\n",
    "    (3, 'Advertiser C')\n",
    "]\n",
    "advertisers = spark.createDataFrame(advertisers_data, [\"UniqueID\", \"Name\"])\n",
    "\n",
    "advertisers.show()\n",
    "\n"
   ]
  },
  {
   "cell_type": "code",
   "execution_count": 28,
   "metadata": {},
   "outputs": [
    {
     "name": "stdout",
     "output_type": "stream",
     "text": [
      "+--------+-------------+\n",
      "|UniqueID|campaign_name|\n",
      "+--------+-------------+\n",
      "|       1|   Campaign 1|\n",
      "|       2|   Campaign 2|\n",
      "|       3|   Campaign 3|\n",
      "|       4|   Campaign 4|\n",
      "+--------+-------------+\n",
      "\n"
     ]
    }
   ],
   "source": [
    "# Таблица \"Кампании\"\n",
    "campaigns_data = [\n",
    "    (1, 'Campaign 1'),\n",
    "    (2, 'Campaign 2'),\n",
    "    (3, 'Campaign 3'),\n",
    "    (4, 'Campaign 4')\n",
    "]\n",
    "campaigns = spark.createDataFrame(campaigns_data, [\"UniqueID\", \"campaign_name\"])\n",
    "\n",
    "campaigns.show()\n",
    "\n"
   ]
  },
  {
   "cell_type": "code",
   "execution_count": 29,
   "metadata": {},
   "outputs": [
    {
     "name": "stdout",
     "output_type": "stream",
     "text": [
      "+--------+------------+-----------+\n",
      "|UniqueID|advertise_id|campaign_id|\n",
      "+--------+------------+-----------+\n",
      "|       1|           1|          1|\n",
      "|       2|           1|          2|\n",
      "|       3|           2|          3|\n",
      "|       4|           3|          4|\n",
      "|       5|           3|          4|\n",
      "+--------+------------+-----------+\n",
      "\n"
     ]
    }
   ],
   "source": [
    "# Таблица \"Продажи\"\n",
    "sales_data = [\n",
    "    (1, 1, 1),\n",
    "    (2, 1, 2),\n",
    "    (3, 2, 3),\n",
    "    (4, 3, 4),\n",
    "    (5, 3, 4)\n",
    "]\n",
    "sales = spark.createDataFrame(sales_data, [\"UniqueID\", \"advertise_id\", \"campaign_id\"])\n",
    "\n",
    "sales.show()"
   ]
  },
  {
   "cell_type": "code",
   "execution_count": 32,
   "metadata": {},
   "outputs": [
    {
     "name": "stdout",
     "output_type": "stream",
     "text": [
      "+--------+------------+-----------+---------------+-------------+\n",
      "|UniqueID|advertise_id|campaign_id|advertiser_name|campaign_name|\n",
      "+--------+------------+-----------+---------------+-------------+\n",
      "|       1|           1|          1|   Advertiser A|   Campaign 1|\n",
      "|       3|           2|          3|   Advertiser B|   Campaign 3|\n",
      "|       2|           1|          2|   Advertiser A|   Campaign 2|\n",
      "|       4|           3|          4|   Advertiser C|   Campaign 4|\n",
      "|       5|           3|          4|   Advertiser C|   Campaign 4|\n",
      "+--------+------------+-----------+---------------+-------------+\n",
      "\n"
     ]
    },
    {
     "name": "stderr",
     "output_type": "stream",
     "text": [
      "                                                                                \r"
     ]
    }
   ],
   "source": [
    "# Денормализация данных\n",
    "# Присоединим информацию о рекламодателях и кампаниях к таблице \"Продажи\"\n",
    "denormalized_sales = sales.join(advertisers, sales.advertise_id == advertisers.UniqueID, \"left\") \\\n",
    "                          .join(campaigns, sales.campaign_id == campaigns.UniqueID, \"left\") \\\n",
    "                          .drop(advertisers.UniqueID) \\\n",
    "                          .drop(campaigns.UniqueID) \\\n",
    "                          .withColumnRenamed(\"Name\", \"advertiser_name\") \\\n",
    "                          .withColumnRenamed(\"campaign_name\", \"campaign_name\")\n",
    "\n",
    "# Шаг 4: Вывод денормализованной таблицы\n",
    "denormalized_sales.show()"
   ]
  },
  {
   "cell_type": "code",
   "execution_count": 33,
   "metadata": {},
   "outputs": [],
   "source": [
    "spark.stop()"
   ]
  }
 ],
 "metadata": {
  "kernelspec": {
   "display_name": ".venv",
   "language": "python",
   "name": "python3"
  },
  "language_info": {
   "codemirror_mode": {
    "name": "ipython",
    "version": 3
   },
   "file_extension": ".py",
   "mimetype": "text/x-python",
   "name": "python",
   "nbconvert_exporter": "python",
   "pygments_lexer": "ipython3",
   "version": "3.12.2"
  }
 },
 "nbformat": 4,
 "nbformat_minor": 2
}
