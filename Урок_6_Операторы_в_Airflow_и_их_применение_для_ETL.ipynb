{
 "cells": [
  {
   "cell_type": "markdown",
   "metadata": {},
   "source": [
    "# ETL: автоматизация подготовки данных семинары\n",
    "\n",
    "## Урок 6. Операторы в Airflow и их применение для ETL\n",
    "\n",
    "1. Создайте новый граф. Добавьте в него BashOperator, который будет генерировать рандомное число и печатать его в\n",
    "консоль.\n",
    "\n",
    "2. Создайте PythonOperator, который генерирует рандомное число, возводит его в квадрат и выводит в консоль исходное число и результат."
   ]
  },
  {
   "cell_type": "code",
   "execution_count": null,
   "metadata": {},
   "outputs": [],
   "source": [
    "import random\n",
    "from datetime import datetime\n",
    "from airflow import DAG\n",
    "from airflow.operators.bash_operator import BashOperator\n",
    "from airflow.operators.python_operator import PythonOperator\n",
    "\n",
    "# Определение функции для PythonOperator\n",
    "def generate_random_number():\n",
    "    random_number = random.randint(1, 100)\n",
    "    squared_number = random_number ** 2\n",
    "    print(f\"Original number: {random_number}, Squared number: {squared_number}\")\n",
    "\n",
    "# Определение стандартных аргументов DAG\n",
    "default_args = {\n",
    "    'owner': 'airflow',\n",
    "    'start_date': datetime(2023, 1, 1),\n",
    "}\n",
    "\n",
    "# Определение DAG\n",
    "dag = DAG(\n",
    "    'random_number_dag',\n",
    "    default_args=default_args,\n",
    "    description='A simple DAG to generate random numbers',\n",
    "    schedule_interval=None,\n",
    ")\n",
    "\n",
    "# Определение BashOperator для генерации случайного числа\n",
    "t1 = BashOperator(\n",
    "    task_id='generate_random_number_bash',\n",
    "    bash_command='echo \"Generated random number: $RANDOM\"',\n",
    "    dag=dag,\n",
    ")\n",
    "\n",
    "# Определение PythonOperator для генерации случайного числа и его возведения в квадрат\n",
    "t2 = PythonOperator(\n",
    "    task_id='generate_random_number_python',\n",
    "    python_callable=generate_random_number,\n",
    "    dag=dag,\n",
    ")\n",
    "\n",
    "# Установка последовательности выполнения задач в DAG\n",
    "t1 >> t2"
   ]
  },
  {
   "cell_type": "markdown",
   "metadata": {},
   "source": [
    "![Screenshot_20241108_110027](Screenshot_20241108_110027.png)"
   ]
  },
  {
   "cell_type": "markdown",
   "metadata": {},
   "source": [
    "![Screenshot_20241108_110109](Screenshot_20241108_110109.png)"
   ]
  },
  {
   "cell_type": "markdown",
   "metadata": {},
   "source": [
    "![Screenshot_20241108_110150](Screenshot_20241108_110150.png)"
   ]
  },
  {
   "cell_type": "markdown",
   "metadata": {},
   "source": [
    "![Screenshot_20241108_111107](Screenshot_20241108_111107.png)"
   ]
  }
 ],
 "metadata": {
  "language_info": {
   "name": "python"
  }
 },
 "nbformat": 4,
 "nbformat_minor": 2
}
